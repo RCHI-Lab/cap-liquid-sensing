{
 "cells": [
  {
   "cell_type": "markdown",
   "metadata": {},
   "source": [
    "# Random Forest Classification with Capacitive Sensing\n",
    "### Created By Alexandra Gillespie\n",
    "### Last updated 2/27/24\n"
   ]
  },
  {
   "cell_type": "markdown",
   "metadata": {},
   "source": [
    "## Load imports"
   ]
  },
  {
   "cell_type": "code",
   "execution_count": 1,
   "metadata": {},
   "outputs": [],
   "source": [
    "import numpy as np\n",
    "import os\n",
    "import pandas as pd\n",
    "from IPython.display import display\n",
    "from sklearn.model_selection import StratifiedKFold\n",
    "from sklearn.svm import SVC\n",
    "from sklearn.ensemble import RandomForestClassifier\n",
    "from sklearn.neighbors import KNeighborsClassifier\n",
    "from sklearn.preprocessing import StandardScaler\n",
    "from sklearn.preprocessing import MinMaxScaler\n",
    "from sklearn.metrics import confusion_matrix, ConfusionMatrixDisplay\n",
    "import matplotlib.pyplot as plt\n",
    "import matplotlib.pyplot as plt \n",
    "import plotly.graph_objects as go\n",
    "from plotly.subplots import make_subplots"
   ]
  },
  {
   "cell_type": "code",
   "execution_count": 22,
   "metadata": {},
   "outputs": [],
   "source": [
    "# TODO: specify containers and contents\n",
    "containers = ['pp', 'glass', 'paper', 'foam', 'ceramic', 'silicon', 'wood', 'pcg', 'pet']\n",
    "contents = ['water', 'oil', 'honey', 'sugar', 'starch', 'vinegar', 'oats', 'rice', 'lentils']\n",
    "# TODO put the directory that houses the data's directories\n",
    "current_dir = '/Users/alexandragillespie/Desktop/Clean Code'"
   ]
  },
  {
   "cell_type": "markdown",
   "metadata": {},
   "source": [
    "## Data Preprocessing"
   ]
  },
  {
   "cell_type": "code",
   "execution_count": 33,
   "metadata": {},
   "outputs": [],
   "source": [
    "# Function for data preprocessing\n",
    "def data_processing(directory, num_its):\n",
    "    '''\n",
    "    parameters\n",
    "    directory: name of the directory housing the data\n",
    "    num_its: the total number of iterations of each container/content combination\n",
    "\n",
    "    returns\n",
    "    X_final: array of all sensor data\n",
    "    y_content: the labels for contents\n",
    "    y_container: the labels for containers\n",
    "    y_overall: the label for the container/content combination\n",
    "    ids_contents: the dictionary identifying the label for each content\n",
    "    ids_container: the dictionary identifying the label for each container\n",
    "    ids: the dictionary identifying the label for each content/container combination\n",
    "    '''\n",
    "    # goes into that directory, pulls those files\n",
    "    dir_name = current_dir+'/'+directory\n",
    "    location = os.chdir(dir_name)\n",
    "    read_files = os.listdir(location)\n",
    "\n",
    "    # houses which ID (number, starting at 0) indicates which container/content combination \n",
    "    ids = {} \n",
    "    ids_container = {}\n",
    "    ids_contents = {}\n",
    "\n",
    "    # the headers according to how the data was collected\n",
    "    headers = ['container', 'content', 'labels', 'group', 'group_it', 'iteration', 'observation', 'python time', 'Teensy time sensor 1', 'Teensy time for sensor 2', 'sensor 1','sensor 2','sensor 3', 'sensor 4','sensor 5', 'sensor 6', 'sensor 7', 'sensor 8', 'sensor 9', 'sensor 10']\n",
    "\n",
    "    # labels\n",
    "    labels = 0\n",
    "    labels_container = 0\n",
    "    labels_content = 0\n",
    "\n",
    "    # goes through each file in the directory\n",
    "    for filename in read_files:\n",
    "        # determines the container and content we're using based on the name of the file (ex: honey_plastic.pkl has 'honey' and 'plastic' in the title)\n",
    "        id_nameing = filename\n",
    "        id_nameing = filename.split('.')[0]\n",
    "        id_name = id_nameing.split('_')[:2]\n",
    "\n",
    "        # if that combination is a file we have listed in contents and containers (i.e. if the content is in contents and the container is in containers)\n",
    "        if id_name[0] in contents and id_name[1] in containers:\n",
    "\n",
    "            # unpickles the file, reads as a numpy array\n",
    "            unpickled = pd.read_pickle(filename)\n",
    "\n",
    "            # updates dictionaries to include the id and what it represents (ex: 'water\\nglass': 0 or 'water': 0)\n",
    "            ids['\\n'.join(id_name)] = labels \n",
    "            if id_name[1] not in ids_container:\n",
    "                labels_container += 1\n",
    "                ids_container[id_name[1]] = labels_container\n",
    "            if id_name[0] not in ids_contents:\n",
    "                labels_content +=1\n",
    "                ids_contents[id_name[0]]= labels\n",
    "\n",
    "            this_container_label = ids_container[id_name[1]]\n",
    "            this_content_label =  ids_contents[id_name[0]]\n",
    "\n",
    "            # creates a dataframe, converts the appropriate columns to numbers\n",
    "            reading = pd.DataFrame(unpickled, columns = headers)\n",
    "            reading[reading.columns[3:]] = reading[reading.columns[3:]].apply(pd.to_numeric) # converts necessary values to numeric rather than strings (as they were read in)\n",
    "\n",
    "            # goes through each iteration\n",
    "            for i in range(num_its):\n",
    "                # creates a new dataframe with just an iteration\n",
    "                new_df = reading[reading['iteration'] == i]\n",
    "                # takes just the sensor values of that iteration\n",
    "                just_sensors_at_it = np.array(new_df[['sensor 1','sensor 2','sensor 3', 'sensor 4','sensor 5', 'sensor 6', 'sensor 7', 'sensor 8', 'sensor 9', 'sensor 10']].copy())\n",
    "\n",
    "                # create datasets for each sensor to later use for first order gradient calculations\n",
    "                if i == 0:\n",
    "                    sensor_1_array = np.array(new_df[['sensor 1']].copy())\n",
    "                    sensor_2_array = np.array(new_df[['sensor 2']].copy())\n",
    "                    sensor_3_array = np.array(new_df[['sensor 3']].copy())\n",
    "                    sensor_4_array = np.array(new_df[['sensor 4']].copy())\n",
    "                    sensor_5_array = np.array(new_df[['sensor 5']].copy())\n",
    "                    sensor_6_array = np.array(new_df[['sensor 6']].copy())\n",
    "                    sensor_7_array = np.array(new_df[['sensor 7']].copy())\n",
    "                    sensor_8_array = np.array(new_df[['sensor 8']].copy())\n",
    "                    sensor_9_array = np.array(new_df[['sensor 9']].copy())\n",
    "                    sensor_10_array = np.array(new_df[['sensor 10']].copy())\n",
    "                else:\n",
    "                    sensor_1_array = np.hstack((sensor_1_array, np.array(new_df[['sensor 1']].copy())))\n",
    "                    sensor_2_array = np.hstack((sensor_2_array, np.array(new_df[['sensor 2']].copy())))\n",
    "                    sensor_3_array = np.hstack((sensor_3_array, np.array(new_df[['sensor 3']].copy())))\n",
    "                    sensor_4_array = np.hstack((sensor_4_array, np.array(new_df[['sensor 4']].copy())))\n",
    "                    sensor_5_array = np.hstack((sensor_5_array, np.array(new_df[['sensor 5']].copy())))\n",
    "                    sensor_6_array = np.hstack((sensor_6_array, np.array(new_df[['sensor 6']].copy())))\n",
    "                    sensor_7_array = np.hstack((sensor_7_array, np.array(new_df[['sensor 7']].copy())))\n",
    "                    sensor_8_array = np.hstack((sensor_8_array, np.array(new_df[['sensor 8']].copy())))\n",
    "                    sensor_9_array = np.hstack((sensor_9_array, np.array(new_df[['sensor 9']].copy())))\n",
    "                    sensor_10_array = np.hstack((sensor_10_array, np.array(new_df[['sensor 10']].copy())))\n",
    "\n",
    "\n",
    "                # windowing the data such that each 10 sensor values lie end to end (flattened)\n",
    "                first_through_row = True\n",
    "                for row in just_sensors_at_it:\n",
    "                    for m in range(len(row)):\n",
    "                        ind_val = row[m]\n",
    "                        # if a value is below 2000, replace it with either the preceding value or the next value (handles outliers)\n",
    "                        if ind_val > 2000:\n",
    "                            if prev_val!=0:\n",
    "                                row[m] = prev_val\n",
    "                            else: \n",
    "                                row[m] = row[m+1]\n",
    "                        else:\n",
    "                            prev_val = row[m]\n",
    "                    if first_through_row:\n",
    "                        new_row = np.array(row)\n",
    "                        first_through_row = False\n",
    "                    else:\n",
    "                        new_row = np.hstack((new_row, np.array(row)))\n",
    "                if i == 0:\n",
    "                    new_array = np.array(new_row)\n",
    "                else: \n",
    "                    new_array = np.vstack((new_array, new_row))\n",
    "\n",
    "            # concatenate the gradients of each sensor\n",
    "            final_grad_array = np.hstack((np.gradient(sensor_1_array.T, axis = 1), np.gradient(sensor_2_array.T, axis = 1)))\n",
    "            final_grad_array = np.hstack((final_grad_array, np.gradient(sensor_3_array.T, axis = 1)))\n",
    "            final_grad_array = np.hstack((final_grad_array, np.gradient(sensor_4_array.T, axis = 1)))\n",
    "            final_grad_array = np.hstack((final_grad_array, np.gradient(sensor_5_array.T, axis = 1)))\n",
    "            final_grad_array = np.hstack((final_grad_array, np.gradient(sensor_6_array.T, axis = 1)))\n",
    "            final_grad_array = np.hstack((final_grad_array, np.gradient(sensor_7_array.T, axis = 1)))\n",
    "            final_grad_array = np.hstack((final_grad_array, np.gradient(sensor_8_array.T, axis = 1)))\n",
    "            final_grad_array = np.hstack((final_grad_array, np.gradient(sensor_9_array.T, axis = 1)))\n",
    "            final_grad_array = np.hstack((final_grad_array, np.gradient(sensor_10_array.T, axis = 1)))\n",
    "\n",
    "            new_array = np.hstack((new_array, final_grad_array))\n",
    "\n",
    "            # creates numpy arrays for the labels\n",
    "            if labels == 0:\n",
    "                X_final = new_array\n",
    "                y_overall = np.full((new_array.shape[0],1), labels)\n",
    "                y_container = np.full((new_array.shape[0],1), this_container_label)\n",
    "                y_content = np.full((new_array.shape[0],1), this_content_label)\n",
    "            else: \n",
    "                X_final = np.vstack((X_final, new_array))\n",
    "                y_overall = np.vstack((y_overall, np.full((new_array.shape[0],1), labels)))\n",
    "                y_container = np.vstack((y_container, np.full((new_array.shape[0],1), this_container_label)))\n",
    "                y_content = np.vstack((y_content, np.full((new_array.shape[0],1), this_content_label)))\n",
    "            labels +=1\n",
    "            \n",
    "\n",
    "    return X_final, y_content, y_container, y_overall, ids_contents, ids_container, ids\n"
   ]
  },
  {
   "cell_type": "markdown",
   "metadata": {},
   "source": [
    "## Create aggregate dataset"
   ]
  },
  {
   "cell_type": "code",
   "execution_count": 34,
   "metadata": {},
   "outputs": [],
   "source": [
    "# if multiple datasets were used to create an aggregate dataset, use this function to combine them\n",
    "def create_aggregate_dataset(datasets, iterations):\n",
    "    '''\n",
    "    parameters\n",
    "    datasets: the names of the datasets you intend to combine\n",
    "    iterations: the number of iterations used for each dataset\n",
    "\n",
    "    returns\n",
    "    X_data: total dataset\n",
    "    y_content: total list of contents labels\n",
    "    y_container: total list of contents labels\n",
    "    y_total: total list of total labels\n",
    "    ids_contents: the dictionary identifying the label for each content\n",
    "    ids_container: the dictionary identifying the label for each container\n",
    "    ids: the dictionary identifying the label for each content/container combination\n",
    "    '''\n",
    "    first_through = True\n",
    "    for dataset in datasets:\n",
    "        X_raw, y_content_individual, y_container_individual, y_overall_individual, ids_contents, ids_container, ids = data_processing(dataset, iterations)\n",
    "        if first_through:\n",
    "            X_data = X_raw\n",
    "            y_content = y_content_individual\n",
    "            y_container = y_container_individual\n",
    "            y_total = y_overall_individual\n",
    "            first_through = False\n",
    "        else:\n",
    "            X_data = np.vstack((X_data, X_raw))\n",
    "            y_content = np.vstack((y_content, y_content_individual))\n",
    "            y_container = np.vstack((y_container, y_container_individual))\n",
    "            y_total = np.vstack((y_total, y_overall_individual))\n",
    "    return X_data, y_content, y_container, y_total, ids_contents, ids_container, ids"
   ]
  },
  {
   "cell_type": "markdown",
   "metadata": {},
   "source": [
    "## Run dataset preprocessing"
   ]
  },
  {
   "cell_type": "code",
   "execution_count": 35,
   "metadata": {},
   "outputs": [
    {
     "name": "stdout",
     "output_type": "stream",
     "text": [
      "Training data shape:  (2430, 4000)\n",
      "Testing data shape:  (810, 4000)\n"
     ]
    }
   ],
   "source": [
    "num_its = 10\n",
    "datasets = ['data_collection_1', 'data_collection_3', 'data_collection_4']\n",
    "X_training, y_content_training, y_container_training, y_overall_training, ids_contents, ids_container, ids = create_aggregate_dataset(datasets, num_its)\n",
    "print(\"Training data shape: \", np.shape(X_training))\n",
    "\n",
    "X_testing, y_content_testing, y_container_testing, y_overall_testing, _, _, _ = data_processing('data_collection_2', num_its)\n",
    "print(\"Testing data shape: \", np.shape(X_testing))"
   ]
  },
  {
   "cell_type": "markdown",
   "metadata": {},
   "source": [
    "## Model"
   ]
  },
  {
   "cell_type": "code",
   "execution_count": 36,
   "metadata": {},
   "outputs": [
    {
     "name": "stdout",
     "output_type": "stream",
     "text": [
      "Fold 0:\n",
      "  Train: index=[   0    1    2 ... 2427 2428 2429]\n",
      "  Test:  index=[   3    9   29   51   56   84   89   91   98  101  117  121  142  156\n",
      "  161  175  176  184  196  216  231  244  268  284  301  305  315  319\n",
      "  330  332  345  357  369  373  375  403  426  429  431  435  447  472\n",
      "  479  485  494  499  502  507  520  532  539  548  565  581  594  622\n",
      "  632  643  654  670  678  705  707  717  718  722  751  759  772  780\n",
      "  802  803  824  825  835  843  844  850  859  864  871  884  885  904\n",
      "  924  929  930  941  946  951  993 1008 1015 1018 1024 1031 1033 1062\n",
      " 1078 1081 1087 1092 1103 1109 1124 1136 1139 1140 1166 1178 1180 1204\n",
      " 1218 1220 1225 1262 1263 1268 1270 1271 1285 1292 1298 1306 1347 1351\n",
      " 1360 1367 1374 1384 1385 1414 1421 1434 1446 1449 1458 1471 1473 1497\n",
      " 1499 1531 1547 1557 1579 1585 1598 1601 1606 1617 1626 1633 1643 1655\n",
      " 1666 1682 1683 1697 1703 1721 1724 1747 1753 1767 1770 1777 1782 1783\n",
      " 1798 1802 1818 1821 1830 1842 1850 1857 1860 1864 1872 1873 1882 1894\n",
      " 1908 1911 1929 1946 1960 1968 1975 1989 2000 2004 2005 2012 2016 2026\n",
      " 2034 2047 2050 2063 2065 2089 2125 2130 2132 2133 2144 2147 2169 2178\n",
      " 2180 2192 2203 2209 2211 2212 2223 2228 2235 2238 2248 2268 2270 2274\n",
      " 2288 2297 2301 2315 2318 2319 2326 2338 2349 2355 2356 2360 2364 2370\n",
      " 2380 2382 2397 2404 2410]\n",
      "  Accuracy: 0.9506172839506173\n",
      "\n",
      "Outside test accuracy: 0.854320987654321\n",
      "\n",
      "Fold 1:\n",
      "  Train: index=[   0    1    3 ... 2427 2428 2429]\n",
      "  Test:  index=[   2    4   11   14   21   24   26   30   40   55   60   77   87  103\n",
      "  105  111  118  131  157  164  171  178  212  213  227  234  237  255\n",
      "  264  278  279  285  289  298  335  342  353  360  367  379  384  388\n",
      "  405  428  444  445  449  456  464  475  480  490  496  528  544  554\n",
      "  558  560  573  579  597  602  605  611  636  652  662  697  703  712\n",
      "  729  734  735  742  749  753  761  776  788  794  796  797  858  863\n",
      "  874  875  882  894  898  902  934  939  940  958  962  966  970  989\n",
      "  990  992 1010 1046 1063 1090 1113 1128 1129 1132 1145 1153 1179 1183\n",
      " 1190 1222 1233 1273 1281 1294 1303 1310 1315 1320 1323 1331 1334 1349\n",
      " 1350 1361 1387 1394 1408 1425 1437 1443 1444 1452 1455 1462 1465 1476\n",
      " 1478 1480 1490 1493 1516 1518 1558 1577 1587 1597 1610 1628 1632 1652\n",
      " 1656 1665 1679 1692 1714 1719 1728 1736 1744 1759 1761 1764 1785 1805\n",
      " 1811 1812 1819 1822 1823 1834 1840 1843 1862 1866 1868 1876 1880 1885\n",
      " 1897 1915 1919 1921 1928 1934 1944 1949 1952 1963 1970 1971 1997 2015\n",
      " 2017 2018 2027 2029 2038 2039 2043 2055 2058 2059 2071 2078 2082 2097\n",
      " 2107 2122 2138 2151 2159 2161 2181 2187 2200 2208 2215 2225 2231 2241\n",
      " 2246 2267 2290 2298 2304 2312 2316 2332 2336 2340 2345 2359 2373 2376\n",
      " 2386 2393 2401 2422 2424]\n",
      "  Accuracy: 0.9588477366255144\n",
      "\n",
      "Outside test accuracy: 0.8567901234567902\n",
      "\n",
      "Fold 2:\n",
      "  Train: index=[   0    2    3 ... 2426 2427 2428]\n",
      "  Test:  index=[   1   34   36   43   45   57   64   68   72   83   93   94   99  107\n",
      "  112  124  125  130  146  155  201  203  208  248  254  263  270  281\n",
      "  283  290  310  317  322  326  333  355  368  394  399  414  422  423\n",
      "  436  439  446  458  469  476  484  492  503  510  512  518  521  538\n",
      "  541  550  563  575  580  590  598  600  615  616  625  626  641  651\n",
      "  663  679  683  684  691  720  738  739  745  750  752  762  793  799\n",
      "  813  821  822  823  838  888  895  942  948  964  965  974 1000 1007\n",
      " 1020 1030 1039 1047 1057 1064 1070 1072 1088 1102 1119 1125 1151 1152\n",
      " 1162 1181 1193 1198 1207 1211 1213 1224 1229 1239 1248 1267 1278 1280\n",
      " 1290 1317 1368 1379 1380 1393 1423 1439 1460 1467 1477 1482 1496 1500\n",
      " 1502 1511 1520 1522 1540 1554 1556 1566 1570 1590 1618 1622 1642 1649\n",
      " 1659 1661 1673 1677 1689 1691 1708 1726 1729 1730 1731 1748 1766 1768\n",
      " 1784 1787 1791 1792 1793 1803 1806 1808 1817 1837 1838 1841 1852 1856\n",
      " 1869 1878 1896 1904 1914 1922 1923 1943 1950 1959 1962 1974 1980 1987\n",
      " 1990 1993 2007 2025 2061 2066 2070 2084 2098 2103 2110 2119 2123 2142\n",
      " 2143 2154 2158 2164 2168 2170 2182 2193 2207 2218 2220 2229 2255 2256\n",
      " 2259 2262 2263 2285 2291 2322 2325 2333 2342 2348 2387 2391 2392 2398\n",
      " 2402 2407 2417 2420 2429]\n",
      "  Accuracy: 0.9506172839506173\n",
      "\n",
      "Outside test accuracy: 0.8419753086419753\n",
      "\n",
      "Fold 3:\n",
      "  Train: index=[   0    1    2 ... 2426 2427 2429]\n",
      "  Test:  index=[  37   38   58   76   82  127  128  136  139  149  159  160  163  168\n",
      "  177  187  193  204  209  211  217  220  233  241  251  258  260  273\n",
      "  275  295  299  300  304  323  329  339  348  363  365  372  382  385\n",
      "  390  395  404  407  409  413  417  421  430  441  451  465  488  495\n",
      "  497  501  525  549  552  564  584  591  592  593  610  614  623  624\n",
      "  633  640  648  655  666  674  677  696  704  706  708  711  740  748\n",
      "  757  765  777  778  784  805  814  819  827  828  829  830  836  837\n",
      "  854  855  876  886  906  910  914  918  928  953  982  984  994  997\n",
      " 1004 1005 1014 1023 1036 1051 1058 1068 1076 1079 1095 1099 1143 1144\n",
      " 1157 1160 1164 1188 1194 1228 1232 1235 1261 1279 1287 1296 1313 1316\n",
      " 1322 1326 1339 1345 1354 1373 1378 1381 1386 1388 1398 1419 1424 1440\n",
      " 1447 1453 1469 1479 1492 1494 1523 1539 1542 1546 1562 1568 1576 1583\n",
      " 1594 1595 1600 1611 1629 1657 1664 1675 1678 1684 1685 1696 1700 1709\n",
      " 1711 1715 1732 1733 1745 1752 1769 1773 1779 1845 1851 1855 1899 1903\n",
      " 1918 1927 1932 1935 1939 1941 1969 1973 1986 1998 2014 2051 2056 2064\n",
      " 2068 2074 2086 2093 2094 2100 2114 2135 2149 2156 2157 2163 2171 2172\n",
      " 2201 2222 2224 2240 2275 2286 2294 2303 2311 2317 2337 2343 2344 2357\n",
      " 2369 2389 2415 2418 2428]\n",
      "  Accuracy: 0.9753086419753086\n",
      "\n",
      "Outside test accuracy: 0.8419753086419753\n",
      "\n",
      "Fold 4:\n",
      "  Train: index=[   0    1    2 ... 2425 2428 2429]\n",
      "  Test:  index=[   6    8   15   32   33   47   61   78   92   96  102  106  115  116\n",
      "  132  133  134  148  169  170  192  202  214  246  252  256  266  267\n",
      "  282  293  306  307  311  325  331  343  346  358  377  383  398  415\n",
      "  416  450  467  468  470  491  493  505  517  519  524  546  553  556\n",
      "  585  601  613  627  642  650  660  667  676  687  702  713  760  770\n",
      "  787  804  811  833  847  851  856  861  868  869  877  893  896  901\n",
      "  913  926  936  938  952  960  963  968  972  973  980  996  998 1001\n",
      " 1003 1012 1022 1034 1035 1037 1043 1050 1077 1085 1098 1101 1108 1123\n",
      " 1126 1131 1138 1142 1154 1168 1169 1174 1175 1189 1197 1202 1217 1230\n",
      " 1236 1243 1251 1260 1269 1274 1288 1293 1295 1302 1337 1341 1343 1346\n",
      " 1358 1365 1371 1375 1383 1399 1403 1412 1417 1431 1436 1442 1445 1448\n",
      " 1456 1457 1463 1501 1507 1525 1530 1536 1537 1543 1550 1555 1569 1571\n",
      " 1573 1586 1591 1596 1604 1634 1639 1640 1645 1688 1695 1698 1701 1746\n",
      " 1762 1795 1807 1827 1832 1853 1859 1865 1879 1893 1895 1900 1920 1956\n",
      " 1985 1992 2003 2019 2022 2023 2031 2041 2052 2053 2060 2062 2092 2109\n",
      " 2124 2127 2136 2148 2162 2186 2197 2198 2206 2214 2217 2234 2237 2276\n",
      " 2289 2292 2299 2307 2309 2314 2323 2324 2331 2352 2354 2368 2372 2377\n",
      " 2396 2412 2419 2426 2427]\n",
      "  Accuracy: 0.9629629629629629\n",
      "\n",
      "Outside test accuracy: 0.8320987654320988\n",
      "\n",
      "Fold 5:\n",
      "  Train: index=[   0    1    2 ... 2427 2428 2429]\n",
      "  Test:  index=[  13   16   23   25   39   44   50   59   66   97  109  114  147  150\n",
      "  151  153  166  173  180  181  185  191  198  205  210  224  228  235\n",
      "  238  240  257  272  297  302  308  321  328  350  362  371  378  380\n",
      "  387  402  433  453  455  462  463  482  487  500  513  523  530  534\n",
      "  540  570  577  582  588  595  604  606  618  620  630  631  645  659\n",
      "  669  672  681  688  719  725  726  769  771  775  779  782  795  798\n",
      "  826  846  867  872  883  889  897  899  907  922  935  949  950  959\n",
      "  988 1006 1013 1025 1045 1056 1061 1065 1073 1074 1075 1091 1097 1100\n",
      " 1116 1133 1141 1146 1156 1159 1165 1172 1196 1208 1214 1223 1226 1240\n",
      " 1250 1252 1255 1275 1283 1297 1301 1309 1328 1336 1338 1342 1357 1359\n",
      " 1362 1364 1370 1395 1402 1416 1432 1450 1454 1484 1503 1505 1510 1515\n",
      " 1521 1526 1533 1541 1544 1553 1560 1565 1572 1593 1599 1608 1615 1616\n",
      " 1624 1625 1627 1641 1651 1667 1669 1681 1699 1706 1712 1720 1727 1737\n",
      " 1743 1749 1751 1757 1780 1786 1790 1820 1836 1849 1863 1890 1892 1905\n",
      " 1912 1936 1937 1938 1951 1964 1972 1981 1999 2011 2013 2028 2035 2045\n",
      " 2046 2048 2054 2076 2090 2091 2113 2121 2126 2131 2173 2184 2185 2194\n",
      " 2219 2230 2233 2242 2250 2277 2278 2281 2284 2293 2308 2310 2329 2358\n",
      " 2362 2367 2379 2381 2421]\n",
      "  Accuracy: 0.9547325102880658\n",
      "\n",
      "Outside test accuracy: 0.8333333333333334\n",
      "\n",
      "Fold 6:\n",
      "  Train: index=[   1    2    3 ... 2427 2428 2429]\n",
      "  Test:  index=[   0   10   20   31   41   53   54   70   81   86  104  113  119  120\n",
      "  135  138  158  174  188  194  215  223  232  239  245  261  262  276\n",
      "  286  291  312  324  337  338  351  356  396  412  432  434  438  442\n",
      "  459  474  477  478  489  506  522  527  529  536  545  557  559  561\n",
      "  576  586  617  635  637  649  656  671  675  689  694  699  724  727\n",
      "  731  732  741  744  754  756  768  785  807  810  812  832  857  866\n",
      "  870  879  890  908  909  937  945  954  957  961  977  978  986  991\n",
      " 1019 1029 1053 1054 1067 1083 1094 1104 1105 1111 1114 1115 1127 1137\n",
      " 1158 1167 1170 1176 1177 1182 1184 1199 1200 1205 1212 1215 1227 1231\n",
      " 1238 1258 1259 1265 1272 1277 1300 1304 1312 1314 1321 1325 1382 1390\n",
      " 1391 1405 1407 1409 1411 1413 1415 1422 1435 1468 1475 1483 1495 1508\n",
      " 1512 1517 1527 1559 1567 1578 1580 1581 1582 1619 1631 1638 1646 1650\n",
      " 1654 1662 1686 1693 1694 1717 1722 1725 1734 1742 1760 1771 1788 1796\n",
      " 1800 1813 1815 1825 1826 1835 1846 1847 1854 1870 1874 1881 1891 1907\n",
      " 1931 1947 1955 1965 1967 1996 2006 2008 2020 2033 2044 2079 2088 2101\n",
      " 2106 2117 2139 2152 2155 2160 2166 2175 2183 2189 2196 2232 2247 2249\n",
      " 2254 2260 2264 2272 2282 2287 2302 2320 2330 2339 2347 2351 2385 2400\n",
      " 2406 2411 2414 2416 2425]\n",
      "  Accuracy: 0.9588477366255144\n",
      "\n",
      "Outside test accuracy: 0.845679012345679\n",
      "\n",
      "Fold 7:\n",
      "  Train: index=[   0    1    2 ... 2427 2428 2429]\n",
      "  Test:  index=[   5   18   27   48   63   69   75   80   88   95  108  137  152  154\n",
      "  172  189  195  221  225  230  247  250  277  280  303  314  316  334\n",
      "  340  341  349  359  361  366  374  386  393  397  400  406  419  420\n",
      "  427  448  460  466  471  483  504  516  533  547  566  567  574  607\n",
      "  609  612  621  628  629  639  647  658  665  668  673  698  709  710\n",
      "  714  737  764  773  781  789  790  792  806  809  815  818  820  839\n",
      "  845  848  853  862  873  881  891  912  916  920  923  927  933  956\n",
      "  975  983  987 1016 1021 1038 1044 1049 1055 1060 1066 1071 1086 1093\n",
      " 1107 1110 1130 1135 1161 1163 1186 1191 1206 1219 1241 1245 1256 1257\n",
      " 1286 1299 1305 1319 1324 1329 1332 1340 1352 1363 1366 1377 1392 1396\n",
      " 1400 1406 1420 1428 1451 1459 1486 1487 1491 1498 1506 1513 1534 1535\n",
      " 1549 1552 1563 1575 1588 1605 1612 1635 1644 1653 1660 1670 1671 1690\n",
      " 1716 1718 1740 1741 1750 1756 1763 1765 1778 1781 1789 1804 1809 1814\n",
      " 1816 1828 1829 1831 1839 1867 1883 1889 1898 1909 1913 1916 1926 1930\n",
      " 1948 1954 1958 1984 1994 2002 2032 2036 2042 2057 2072 2075 2077 2087\n",
      " 2096 2104 2112 2118 2128 2141 2146 2153 2167 2179 2191 2199 2205 2216\n",
      " 2221 2252 2253 2273 2279 2280 2300 2313 2328 2335 2341 2350 2361 2366\n",
      " 2371 2375 2388 2390 2405]\n",
      "  Accuracy: 0.9670781893004116\n",
      "\n",
      "Outside test accuracy: 0.8432098765432099\n",
      "\n",
      "Fold 8:\n",
      "  Train: index=[   0    1    2 ... 2427 2428 2429]\n",
      "  Test:  index=[  19   46   52   67   71   79   85  110  123  129  141  144  162  183\n",
      "  190  206  207  218  226  229  236  242  249  259  269  288  296  318\n",
      "  327  336  347  352  364  370  389  391  418  424  425  440  452  461\n",
      "  473  481  486  509  511  514  526  535  542  543  562  568  572  589\n",
      "  596  599  603  608  634  644  653  657  661  664  680  685  692  695\n",
      "  715  721  728  730  733  736  747  783  801  808  816  831  834  842\n",
      "  849  852  860  878  880  892  903  915  917  931  947  955  967  969\n",
      "  971  979  981  995 1002 1009 1011 1026 1041 1042 1069 1080 1084 1089\n",
      " 1096 1106 1112 1117 1121 1122 1134 1148 1150 1173 1187 1192 1203 1209\n",
      " 1210 1221 1237 1242 1244 1249 1253 1266 1282 1289 1318 1333 1344 1348\n",
      " 1355 1369 1372 1389 1397 1404 1418 1426 1427 1430 1438 1461 1488 1489\n",
      " 1509 1519 1528 1529 1532 1561 1564 1574 1589 1592 1602 1607 1620 1623\n",
      " 1630 1637 1648 1658 1663 1674 1687 1707 1710 1713 1723 1735 1739 1754\n",
      " 1758 1776 1794 1797 1801 1833 1844 1861 1871 1884 1888 1906 1910 1924\n",
      " 1942 1953 1966 1976 1979 1982 1995 2001 2021 2024 2037 2069 2073 2080\n",
      " 2081 2105 2111 2115 2116 2129 2137 2140 2174 2176 2195 2204 2236 2244\n",
      " 2251 2258 2261 2266 2283 2295 2306 2321 2327 2363 2365 2374 2383 2384\n",
      " 2394 2395 2408 2413 2423]\n",
      "  Accuracy: 0.9794238683127572\n",
      "\n",
      "Outside test accuracy: 0.8407407407407408\n",
      "\n",
      "Fold 9:\n",
      "  Train: index=[   0    1    2 ... 2427 2428 2429]\n",
      "  Test:  index=[   7   12   17   22   28   35   42   49   62   65   73   74   90  100\n",
      "  122  126  140  143  145  165  167  179  182  186  197  199  200  219\n",
      "  222  243  253  265  271  274  287  292  294  309  313  320  344  354\n",
      "  376  381  392  401  408  410  411  437  443  454  457  498  508  515\n",
      "  531  537  551  555  569  571  578  583  587  619  638  646  682  686\n",
      "  690  693  700  701  716  723  743  746  755  758  763  766  767  774\n",
      "  786  791  800  817  840  841  865  887  900  905  911  919  921  925\n",
      "  932  943  944  976  985  999 1017 1027 1028 1032 1040 1048 1052 1059\n",
      " 1082 1118 1120 1147 1149 1155 1171 1185 1195 1201 1216 1234 1246 1247\n",
      " 1254 1264 1276 1284 1291 1307 1308 1311 1327 1330 1335 1353 1356 1376\n",
      " 1401 1410 1429 1433 1441 1464 1466 1470 1472 1474 1481 1485 1504 1514\n",
      " 1524 1538 1545 1548 1551 1584 1603 1609 1613 1614 1621 1636 1647 1668\n",
      " 1672 1676 1680 1702 1704 1705 1738 1755 1772 1774 1775 1799 1810 1824\n",
      " 1848 1858 1875 1877 1886 1887 1901 1902 1917 1925 1933 1940 1945 1957\n",
      " 1961 1977 1978 1983 1988 1991 2009 2010 2030 2040 2049 2067 2083 2085\n",
      " 2095 2099 2102 2108 2120 2134 2145 2150 2165 2177 2188 2190 2202 2210\n",
      " 2213 2226 2227 2239 2243 2245 2257 2265 2269 2271 2296 2305 2334 2346\n",
      " 2353 2378 2399 2403 2409]\n",
      "  Accuracy: 0.9547325102880658\n",
      "\n",
      "Outside test accuracy: 0.8518518518518519\n",
      "\n",
      "Average Test Accuracy: 0.9613168724279836\n",
      "Average Outside Accuracy: 0.8441975308641976\n"
     ]
    }
   ],
   "source": [
    "# define train test split\n",
    "n_splits = 10 # number of splits (this is 90/10 for train/validation)\n",
    "skf = StratifiedKFold(n_splits=n_splits, random_state = 10, shuffle = True) #note if random state = False, there will be randomness each time you run this which may lead to slightly different results for the same model architecture\n",
    "\n",
    "# this doesn't require any edits on your part\n",
    "all_accuracies = []\n",
    "all_outside_accuracies = []\n",
    "for i, (train_index, test_index) in enumerate(skf.split(X_training, y_overall_training)):\n",
    "    \n",
    "    print(f\"Fold {i}:\")\n",
    "    print(f\"  Train: index={train_index}\")\n",
    "    print(f\"  Test:  index={test_index}\")\n",
    "\n",
    "    X_train, X_test = X_training[train_index], X_training[test_index]\n",
    "    y_train, y_test = y_overall_training[train_index], y_overall_training[test_index]\n",
    "\n",
    "    # scale X_train and X_test\n",
    "    scaler = StandardScaler()\n",
    "    X_train = scaler.fit_transform(X_train)\n",
    "    X_test = scaler.transform(X_test)\n",
    "\n",
    "    # train model\n",
    "    model = RandomForestClassifier(random_state = 10)\n",
    "    model.fit(X_train, y_train.ravel())\n",
    "\n",
    "    # evaluate model on test set and generate accuracy score for held out data\n",
    "    accuracy = model.score(X_test, y_test.ravel())\n",
    "    print(f\"  Accuracy: {accuracy}\")\n",
    "    print()\n",
    "    all_accuracies.append(accuracy)\n",
    "\n",
    "    # outside accuracy \n",
    "    X_test2 = scaler.transform(X_testing)\n",
    "    y_test2 = y_overall_testing\n",
    "\n",
    "    # evaluate model and generate accuracy score for outside test data\n",
    "    accuracy = model.score(X_test2, y_test2)\n",
    "    all_outside_accuracies.append(accuracy)\n",
    "    print(f\"Outside test accuracy: {accuracy}\")\n",
    "    print()\n",
    "\n",
    "\n",
    "# print out average accuracy across all folds\n",
    "print(f\"Average Test Accuracy: {np.mean(all_accuracies)}\")\n",
    "print(f\"Average Outside Accuracy: {np.mean(all_outside_accuracies)}\")\n",
    "\n",
    "# THIS DOES THE SAME AS ABOVE BUT TREATS ALL OF THE TRAIN DATASET AS TRAIN AND ONLY THE TEST DATASET AS TEST\n",
    "# train final model using all of first dataset \n",
    "X_train = scaler.fit_transform(X_training)\n",
    "X_test = scaler.transform(X_testing)\n",
    "\n",
    "y_train = y_overall_training\n",
    "y_test = y_overall_testing\n",
    "\n",
    "model = RandomForestClassifier(random_state = 10)\n",
    "model.fit(X_train, y_train.ravel())\n",
    "preds = model.predict(X_test)\n",
    "\n",
    "# evaluate model on test set and generate accuracy score\n",
    "accuracy = model.score(X_test, y_test)"
   ]
  },
  {
   "cell_type": "markdown",
   "metadata": {},
   "source": [
    "## Confusion Matrix Generation"
   ]
  },
  {
   "cell_type": "code",
   "execution_count": 37,
   "metadata": {},
   "outputs": [],
   "source": [
    "cm = confusion_matrix(y_test, preds)\n",
    "df_cm = pd.DataFrame(cm)\n",
    "ids_list = []\n",
    "for key in ids:\n",
    "    ids_list.append(key.split(\"\\n\")[0]+' '+key.split(\"\\n\")[1])\n",
    "df_cm.insert(0, \" \", ids_list, True)\n",
    "new_list = list(\" \")+ids_list\n",
    "df_cm.columns = new_list"
   ]
  },
  {
   "cell_type": "code",
   "execution_count": 41,
   "metadata": {},
   "outputs": [],
   "source": [
    "# Generate confusion matrices\n",
    "ids_by_num = {v: k for k, v in ids.items()}\n",
    "container_preds = []\n",
    "content_preds = []\n",
    "for pred in preds:\n",
    "    combo = ids_by_num[pred]\n",
    "    content = combo.split(\"\\n\")[0]\n",
    "    container = combo.split(\"\\n\")[1]\n",
    "    container_preds.append(ids_container[container])\n",
    "    content_preds.append(ids_contents[content])\n",
    "\n",
    "container_ys = []\n",
    "content_ys = []\n",
    "for ys in y_test:\n",
    "    combo = ids_by_num[ys[0]]\n",
    "    content = combo.split(\"\\n\")[0]\n",
    "    container = combo.split(\"\\n\")[1]\n",
    "    container_ys.append([ids_container[container]])\n",
    "    content_ys.append([ids_contents[content]])\n",
    "    "
   ]
  },
  {
   "cell_type": "code",
   "execution_count": 42,
   "metadata": {},
   "outputs": [],
   "source": [
    "# create the confusion matrices with aesthetically apealing characteristics \n",
    "def produce_cm(scaled_cm, title, color_bar):\n",
    "    if 'Container' in title:\n",
    "        labels = ['PP', 'Glass', 'Paper', 'Foam', 'Ceramic', 'Silicon', 'Wood', 'PC', 'PET']\n",
    "        inverse_labels = labels[::-1]\n",
    "    else:\n",
    "        labels = ['Water', 'Oil', 'Honey', 'Sugar', 'Starch', 'Vinegar', 'Oats', 'Rice', 'Lentils']\n",
    "        inverse_labels = labels[::-1]\n",
    "    # Create a Plotly heatmap for the confusion matrix\n",
    "    if color_bar == True:\n",
    "        fig = go.Figure(data=go.Heatmap(\n",
    "            z=scaled_cm,\n",
    "            x=labels,\n",
    "            y=inverse_labels,\n",
    "            colorscale='tempo',\n",
    "            colorbar=dict()\n",
    "        ))\n",
    "        # Add labels to each cell\n",
    "        for i in range(len(scaled_cm)):\n",
    "            for j in range(len(scaled_cm)):\n",
    "                fig.add_annotation(\n",
    "                    dict(\n",
    "                        x= labels[j],\n",
    "                        y= inverse_labels[i],\n",
    "                        text=str(int(scaled_cm[i, j])),\n",
    "                        showarrow=False,\n",
    "                        font=dict(color='white' if scaled_cm[i, j] > (scaled_cm.max() / 2) else 'black')\n",
    "                    )\n",
    "                )\n",
    "\n",
    "        # Update layout for better visibility\n",
    "        fig.update_layout(\n",
    "            title=dict(\n",
    "                text= \"<b>\"+title+\"<b>\",\n",
    "                font=dict(size=25, color='black', family='Arial, sans-serif')),\n",
    "            title_x=0.5,\n",
    "            xaxis_title='Predicted Label',\n",
    "            yaxis_title='True Label',\n",
    "            xaxis=dict(tickmode='array', tickfont=dict(size=16, color = 'black'), title=dict(font=dict(size=18, color = 'black'))), \n",
    "            yaxis=dict(tickmode='array', tickfont=dict(size=16, color = 'black'), title=dict(font=dict(size=18, color = 'black'))),  \n",
    "            width=600,\n",
    "            height=560,\n",
    "            margin=dict(l=0, r=0, b=0, t=50)\n",
    "        )\n",
    "\n",
    "        fig.show()\n",
    "    else:\n",
    "\n",
    "        fig = go.Figure(data=go.Heatmap(\n",
    "            z=scaled_cm,\n",
    "            x=labels,\n",
    "            y=inverse_labels,\n",
    "            colorscale='tempo',\n",
    "            showscale=False  \n",
    "        ))\n",
    "\n",
    "        for i in range(len(scaled_cm)):\n",
    "            for j in range(len(scaled_cm)):\n",
    "                fig.add_annotation(\n",
    "                    dict(\n",
    "                        x= labels[j],\n",
    "                        y= inverse_labels[i],\n",
    "                        text=str(int(scaled_cm[i, j])),\n",
    "                        showarrow=False,\n",
    "                        font=dict(color='white' if scaled_cm[i, j] > (scaled_cm.max() / 2) else 'black')\n",
    "                    )\n",
    "                )\n",
    "\n",
    "        fig.update_layout(\n",
    "            title=dict(\n",
    "                text= \"<b>\"+title+\"<b>\",\n",
    "                font=dict(size=25, color='black', family='Arial, sans-serif')),\n",
    "            title_x=0.5,\n",
    "            xaxis_title='Predicted Label',\n",
    "            yaxis_title='True Label',\n",
    "            xaxis=dict(tickmode='array', tickfont=dict(size=16, color = 'black'), title=dict(font=dict(size=18, color = 'black'))), \n",
    "            yaxis=dict(tickmode='array', tickfont=dict(size=16, color = 'black'), title=dict(font=dict(size=18, color = 'black'))),  \n",
    "            width=590,\n",
    "            height=600,\n",
    "            margin=dict(l=0, r=10, b=0, t=50)\n",
    "        )\n",
    "\n",
    "        # Show the plot\n",
    "        fig.show()\n",
    "    "
   ]
  },
  {
   "cell_type": "code",
   "execution_count": 43,
   "metadata": {},
   "outputs": [
    {
     "data": {
      "application/vnd.plotly.v1+json": {
       "config": {
        "plotlyServerURL": "https://plot.ly"
       },
       "data": [
        {
         "colorscale": [
          [
           0,
           "rgb(254, 245, 244)"
          ],
          [
           0.09090909090909091,
           "rgb(222, 224, 210)"
          ],
          [
           0.18181818181818182,
           "rgb(189, 206, 181)"
          ],
          [
           0.2727272727272727,
           "rgb(153, 189, 156)"
          ],
          [
           0.36363636363636365,
           "rgb(110, 173, 138)"
          ],
          [
           0.45454545454545453,
           "rgb(65, 157, 129)"
          ],
          [
           0.5454545454545454,
           "rgb(25, 137, 125)"
          ],
          [
           0.6363636363636364,
           "rgb(18, 116, 117)"
          ],
          [
           0.7272727272727273,
           "rgb(25, 94, 106)"
          ],
          [
           0.8181818181818182,
           "rgb(28, 72, 93)"
          ],
          [
           0.9090909090909091,
           "rgb(25, 51, 80)"
          ],
          [
           1,
           "rgb(20, 29, 67)"
          ]
         ],
         "showscale": false,
         "type": "heatmap",
         "x": [
          "PP",
          "Glass",
          "Paper",
          "Foam",
          "Ceramic",
          "Silicon",
          "Wood",
          "PC",
          "PET"
         ],
         "y": [
          "PET",
          "PC",
          "Wood",
          "Silicon",
          "Ceramic",
          "Foam",
          "Paper",
          "Glass",
          "PP"
         ],
         "z": [
          [
           0,
           0,
           0,
           0,
           0,
           2,
           0,
           0,
           99
          ],
          [
           0,
           0,
           0,
           0,
           0,
           3,
           0,
           98,
           0
          ],
          [
           0,
           0,
           0,
           0,
           0,
           10,
           90,
           0,
           0
          ],
          [
           0,
           0,
           0,
           0,
           0,
           100,
           0,
           0,
           0
          ],
          [
           0,
           0,
           0,
           0,
           100,
           0,
           0,
           0,
           0
          ],
          [
           0,
           2,
           0,
           99,
           0,
           0,
           0,
           0,
           0
          ],
          [
           0,
           0,
           99,
           0,
           0,
           0,
           0,
           2,
           0
          ],
          [
           0,
           99,
           0,
           0,
           0,
           0,
           0,
           0,
           2
          ],
          [
           97,
           0,
           0,
           0,
           0,
           0,
           3,
           0,
           2
          ]
         ]
        }
       ],
       "layout": {
        "annotations": [
         {
          "font": {
           "color": "black"
          },
          "showarrow": false,
          "text": "0",
          "x": "PP",
          "y": "PET"
         },
         {
          "font": {
           "color": "black"
          },
          "showarrow": false,
          "text": "0",
          "x": "Glass",
          "y": "PET"
         },
         {
          "font": {
           "color": "black"
          },
          "showarrow": false,
          "text": "0",
          "x": "Paper",
          "y": "PET"
         },
         {
          "font": {
           "color": "black"
          },
          "showarrow": false,
          "text": "0",
          "x": "Foam",
          "y": "PET"
         },
         {
          "font": {
           "color": "black"
          },
          "showarrow": false,
          "text": "0",
          "x": "Ceramic",
          "y": "PET"
         },
         {
          "font": {
           "color": "black"
          },
          "showarrow": false,
          "text": "2",
          "x": "Silicon",
          "y": "PET"
         },
         {
          "font": {
           "color": "black"
          },
          "showarrow": false,
          "text": "0",
          "x": "Wood",
          "y": "PET"
         },
         {
          "font": {
           "color": "black"
          },
          "showarrow": false,
          "text": "0",
          "x": "PC",
          "y": "PET"
         },
         {
          "font": {
           "color": "white"
          },
          "showarrow": false,
          "text": "99",
          "x": "PET",
          "y": "PET"
         },
         {
          "font": {
           "color": "black"
          },
          "showarrow": false,
          "text": "0",
          "x": "PP",
          "y": "PC"
         },
         {
          "font": {
           "color": "black"
          },
          "showarrow": false,
          "text": "0",
          "x": "Glass",
          "y": "PC"
         },
         {
          "font": {
           "color": "black"
          },
          "showarrow": false,
          "text": "0",
          "x": "Paper",
          "y": "PC"
         },
         {
          "font": {
           "color": "black"
          },
          "showarrow": false,
          "text": "0",
          "x": "Foam",
          "y": "PC"
         },
         {
          "font": {
           "color": "black"
          },
          "showarrow": false,
          "text": "0",
          "x": "Ceramic",
          "y": "PC"
         },
         {
          "font": {
           "color": "black"
          },
          "showarrow": false,
          "text": "3",
          "x": "Silicon",
          "y": "PC"
         },
         {
          "font": {
           "color": "black"
          },
          "showarrow": false,
          "text": "0",
          "x": "Wood",
          "y": "PC"
         },
         {
          "font": {
           "color": "white"
          },
          "showarrow": false,
          "text": "98",
          "x": "PC",
          "y": "PC"
         },
         {
          "font": {
           "color": "black"
          },
          "showarrow": false,
          "text": "0",
          "x": "PET",
          "y": "PC"
         },
         {
          "font": {
           "color": "black"
          },
          "showarrow": false,
          "text": "0",
          "x": "PP",
          "y": "Wood"
         },
         {
          "font": {
           "color": "black"
          },
          "showarrow": false,
          "text": "0",
          "x": "Glass",
          "y": "Wood"
         },
         {
          "font": {
           "color": "black"
          },
          "showarrow": false,
          "text": "0",
          "x": "Paper",
          "y": "Wood"
         },
         {
          "font": {
           "color": "black"
          },
          "showarrow": false,
          "text": "0",
          "x": "Foam",
          "y": "Wood"
         },
         {
          "font": {
           "color": "black"
          },
          "showarrow": false,
          "text": "0",
          "x": "Ceramic",
          "y": "Wood"
         },
         {
          "font": {
           "color": "black"
          },
          "showarrow": false,
          "text": "10",
          "x": "Silicon",
          "y": "Wood"
         },
         {
          "font": {
           "color": "white"
          },
          "showarrow": false,
          "text": "90",
          "x": "Wood",
          "y": "Wood"
         },
         {
          "font": {
           "color": "black"
          },
          "showarrow": false,
          "text": "0",
          "x": "PC",
          "y": "Wood"
         },
         {
          "font": {
           "color": "black"
          },
          "showarrow": false,
          "text": "0",
          "x": "PET",
          "y": "Wood"
         },
         {
          "font": {
           "color": "black"
          },
          "showarrow": false,
          "text": "0",
          "x": "PP",
          "y": "Silicon"
         },
         {
          "font": {
           "color": "black"
          },
          "showarrow": false,
          "text": "0",
          "x": "Glass",
          "y": "Silicon"
         },
         {
          "font": {
           "color": "black"
          },
          "showarrow": false,
          "text": "0",
          "x": "Paper",
          "y": "Silicon"
         },
         {
          "font": {
           "color": "black"
          },
          "showarrow": false,
          "text": "0",
          "x": "Foam",
          "y": "Silicon"
         },
         {
          "font": {
           "color": "black"
          },
          "showarrow": false,
          "text": "0",
          "x": "Ceramic",
          "y": "Silicon"
         },
         {
          "font": {
           "color": "white"
          },
          "showarrow": false,
          "text": "100",
          "x": "Silicon",
          "y": "Silicon"
         },
         {
          "font": {
           "color": "black"
          },
          "showarrow": false,
          "text": "0",
          "x": "Wood",
          "y": "Silicon"
         },
         {
          "font": {
           "color": "black"
          },
          "showarrow": false,
          "text": "0",
          "x": "PC",
          "y": "Silicon"
         },
         {
          "font": {
           "color": "black"
          },
          "showarrow": false,
          "text": "0",
          "x": "PET",
          "y": "Silicon"
         },
         {
          "font": {
           "color": "black"
          },
          "showarrow": false,
          "text": "0",
          "x": "PP",
          "y": "Ceramic"
         },
         {
          "font": {
           "color": "black"
          },
          "showarrow": false,
          "text": "0",
          "x": "Glass",
          "y": "Ceramic"
         },
         {
          "font": {
           "color": "black"
          },
          "showarrow": false,
          "text": "0",
          "x": "Paper",
          "y": "Ceramic"
         },
         {
          "font": {
           "color": "black"
          },
          "showarrow": false,
          "text": "0",
          "x": "Foam",
          "y": "Ceramic"
         },
         {
          "font": {
           "color": "white"
          },
          "showarrow": false,
          "text": "100",
          "x": "Ceramic",
          "y": "Ceramic"
         },
         {
          "font": {
           "color": "black"
          },
          "showarrow": false,
          "text": "0",
          "x": "Silicon",
          "y": "Ceramic"
         },
         {
          "font": {
           "color": "black"
          },
          "showarrow": false,
          "text": "0",
          "x": "Wood",
          "y": "Ceramic"
         },
         {
          "font": {
           "color": "black"
          },
          "showarrow": false,
          "text": "0",
          "x": "PC",
          "y": "Ceramic"
         },
         {
          "font": {
           "color": "black"
          },
          "showarrow": false,
          "text": "0",
          "x": "PET",
          "y": "Ceramic"
         },
         {
          "font": {
           "color": "black"
          },
          "showarrow": false,
          "text": "0",
          "x": "PP",
          "y": "Foam"
         },
         {
          "font": {
           "color": "black"
          },
          "showarrow": false,
          "text": "2",
          "x": "Glass",
          "y": "Foam"
         },
         {
          "font": {
           "color": "black"
          },
          "showarrow": false,
          "text": "0",
          "x": "Paper",
          "y": "Foam"
         },
         {
          "font": {
           "color": "white"
          },
          "showarrow": false,
          "text": "99",
          "x": "Foam",
          "y": "Foam"
         },
         {
          "font": {
           "color": "black"
          },
          "showarrow": false,
          "text": "0",
          "x": "Ceramic",
          "y": "Foam"
         },
         {
          "font": {
           "color": "black"
          },
          "showarrow": false,
          "text": "0",
          "x": "Silicon",
          "y": "Foam"
         },
         {
          "font": {
           "color": "black"
          },
          "showarrow": false,
          "text": "0",
          "x": "Wood",
          "y": "Foam"
         },
         {
          "font": {
           "color": "black"
          },
          "showarrow": false,
          "text": "0",
          "x": "PC",
          "y": "Foam"
         },
         {
          "font": {
           "color": "black"
          },
          "showarrow": false,
          "text": "0",
          "x": "PET",
          "y": "Foam"
         },
         {
          "font": {
           "color": "black"
          },
          "showarrow": false,
          "text": "0",
          "x": "PP",
          "y": "Paper"
         },
         {
          "font": {
           "color": "black"
          },
          "showarrow": false,
          "text": "0",
          "x": "Glass",
          "y": "Paper"
         },
         {
          "font": {
           "color": "white"
          },
          "showarrow": false,
          "text": "99",
          "x": "Paper",
          "y": "Paper"
         },
         {
          "font": {
           "color": "black"
          },
          "showarrow": false,
          "text": "0",
          "x": "Foam",
          "y": "Paper"
         },
         {
          "font": {
           "color": "black"
          },
          "showarrow": false,
          "text": "0",
          "x": "Ceramic",
          "y": "Paper"
         },
         {
          "font": {
           "color": "black"
          },
          "showarrow": false,
          "text": "0",
          "x": "Silicon",
          "y": "Paper"
         },
         {
          "font": {
           "color": "black"
          },
          "showarrow": false,
          "text": "0",
          "x": "Wood",
          "y": "Paper"
         },
         {
          "font": {
           "color": "black"
          },
          "showarrow": false,
          "text": "2",
          "x": "PC",
          "y": "Paper"
         },
         {
          "font": {
           "color": "black"
          },
          "showarrow": false,
          "text": "0",
          "x": "PET",
          "y": "Paper"
         },
         {
          "font": {
           "color": "black"
          },
          "showarrow": false,
          "text": "0",
          "x": "PP",
          "y": "Glass"
         },
         {
          "font": {
           "color": "white"
          },
          "showarrow": false,
          "text": "99",
          "x": "Glass",
          "y": "Glass"
         },
         {
          "font": {
           "color": "black"
          },
          "showarrow": false,
          "text": "0",
          "x": "Paper",
          "y": "Glass"
         },
         {
          "font": {
           "color": "black"
          },
          "showarrow": false,
          "text": "0",
          "x": "Foam",
          "y": "Glass"
         },
         {
          "font": {
           "color": "black"
          },
          "showarrow": false,
          "text": "0",
          "x": "Ceramic",
          "y": "Glass"
         },
         {
          "font": {
           "color": "black"
          },
          "showarrow": false,
          "text": "0",
          "x": "Silicon",
          "y": "Glass"
         },
         {
          "font": {
           "color": "black"
          },
          "showarrow": false,
          "text": "0",
          "x": "Wood",
          "y": "Glass"
         },
         {
          "font": {
           "color": "black"
          },
          "showarrow": false,
          "text": "0",
          "x": "PC",
          "y": "Glass"
         },
         {
          "font": {
           "color": "black"
          },
          "showarrow": false,
          "text": "2",
          "x": "PET",
          "y": "Glass"
         },
         {
          "font": {
           "color": "white"
          },
          "showarrow": false,
          "text": "97",
          "x": "PP",
          "y": "PP"
         },
         {
          "font": {
           "color": "black"
          },
          "showarrow": false,
          "text": "0",
          "x": "Glass",
          "y": "PP"
         },
         {
          "font": {
           "color": "black"
          },
          "showarrow": false,
          "text": "0",
          "x": "Paper",
          "y": "PP"
         },
         {
          "font": {
           "color": "black"
          },
          "showarrow": false,
          "text": "0",
          "x": "Foam",
          "y": "PP"
         },
         {
          "font": {
           "color": "black"
          },
          "showarrow": false,
          "text": "0",
          "x": "Ceramic",
          "y": "PP"
         },
         {
          "font": {
           "color": "black"
          },
          "showarrow": false,
          "text": "0",
          "x": "Silicon",
          "y": "PP"
         },
         {
          "font": {
           "color": "black"
          },
          "showarrow": false,
          "text": "3",
          "x": "Wood",
          "y": "PP"
         },
         {
          "font": {
           "color": "black"
          },
          "showarrow": false,
          "text": "0",
          "x": "PC",
          "y": "PP"
         },
         {
          "font": {
           "color": "black"
          },
          "showarrow": false,
          "text": "2",
          "x": "PET",
          "y": "PP"
         }
        ],
        "height": 600,
        "margin": {
         "b": 0,
         "l": 0,
         "r": 10,
         "t": 50
        },
        "template": {
         "data": {
          "bar": [
           {
            "error_x": {
             "color": "#2a3f5f"
            },
            "error_y": {
             "color": "#2a3f5f"
            },
            "marker": {
             "line": {
              "color": "#E5ECF6",
              "width": 0.5
             },
             "pattern": {
              "fillmode": "overlay",
              "size": 10,
              "solidity": 0.2
             }
            },
            "type": "bar"
           }
          ],
          "barpolar": [
           {
            "marker": {
             "line": {
              "color": "#E5ECF6",
              "width": 0.5
             },
             "pattern": {
              "fillmode": "overlay",
              "size": 10,
              "solidity": 0.2
             }
            },
            "type": "barpolar"
           }
          ],
          "carpet": [
           {
            "aaxis": {
             "endlinecolor": "#2a3f5f",
             "gridcolor": "white",
             "linecolor": "white",
             "minorgridcolor": "white",
             "startlinecolor": "#2a3f5f"
            },
            "baxis": {
             "endlinecolor": "#2a3f5f",
             "gridcolor": "white",
             "linecolor": "white",
             "minorgridcolor": "white",
             "startlinecolor": "#2a3f5f"
            },
            "type": "carpet"
           }
          ],
          "choropleth": [
           {
            "colorbar": {
             "outlinewidth": 0,
             "ticks": ""
            },
            "type": "choropleth"
           }
          ],
          "contour": [
           {
            "colorbar": {
             "outlinewidth": 0,
             "ticks": ""
            },
            "colorscale": [
             [
              0,
              "#0d0887"
             ],
             [
              0.1111111111111111,
              "#46039f"
             ],
             [
              0.2222222222222222,
              "#7201a8"
             ],
             [
              0.3333333333333333,
              "#9c179e"
             ],
             [
              0.4444444444444444,
              "#bd3786"
             ],
             [
              0.5555555555555556,
              "#d8576b"
             ],
             [
              0.6666666666666666,
              "#ed7953"
             ],
             [
              0.7777777777777778,
              "#fb9f3a"
             ],
             [
              0.8888888888888888,
              "#fdca26"
             ],
             [
              1,
              "#f0f921"
             ]
            ],
            "type": "contour"
           }
          ],
          "contourcarpet": [
           {
            "colorbar": {
             "outlinewidth": 0,
             "ticks": ""
            },
            "type": "contourcarpet"
           }
          ],
          "heatmap": [
           {
            "colorbar": {
             "outlinewidth": 0,
             "ticks": ""
            },
            "colorscale": [
             [
              0,
              "#0d0887"
             ],
             [
              0.1111111111111111,
              "#46039f"
             ],
             [
              0.2222222222222222,
              "#7201a8"
             ],
             [
              0.3333333333333333,
              "#9c179e"
             ],
             [
              0.4444444444444444,
              "#bd3786"
             ],
             [
              0.5555555555555556,
              "#d8576b"
             ],
             [
              0.6666666666666666,
              "#ed7953"
             ],
             [
              0.7777777777777778,
              "#fb9f3a"
             ],
             [
              0.8888888888888888,
              "#fdca26"
             ],
             [
              1,
              "#f0f921"
             ]
            ],
            "type": "heatmap"
           }
          ],
          "heatmapgl": [
           {
            "colorbar": {
             "outlinewidth": 0,
             "ticks": ""
            },
            "colorscale": [
             [
              0,
              "#0d0887"
             ],
             [
              0.1111111111111111,
              "#46039f"
             ],
             [
              0.2222222222222222,
              "#7201a8"
             ],
             [
              0.3333333333333333,
              "#9c179e"
             ],
             [
              0.4444444444444444,
              "#bd3786"
             ],
             [
              0.5555555555555556,
              "#d8576b"
             ],
             [
              0.6666666666666666,
              "#ed7953"
             ],
             [
              0.7777777777777778,
              "#fb9f3a"
             ],
             [
              0.8888888888888888,
              "#fdca26"
             ],
             [
              1,
              "#f0f921"
             ]
            ],
            "type": "heatmapgl"
           }
          ],
          "histogram": [
           {
            "marker": {
             "pattern": {
              "fillmode": "overlay",
              "size": 10,
              "solidity": 0.2
             }
            },
            "type": "histogram"
           }
          ],
          "histogram2d": [
           {
            "colorbar": {
             "outlinewidth": 0,
             "ticks": ""
            },
            "colorscale": [
             [
              0,
              "#0d0887"
             ],
             [
              0.1111111111111111,
              "#46039f"
             ],
             [
              0.2222222222222222,
              "#7201a8"
             ],
             [
              0.3333333333333333,
              "#9c179e"
             ],
             [
              0.4444444444444444,
              "#bd3786"
             ],
             [
              0.5555555555555556,
              "#d8576b"
             ],
             [
              0.6666666666666666,
              "#ed7953"
             ],
             [
              0.7777777777777778,
              "#fb9f3a"
             ],
             [
              0.8888888888888888,
              "#fdca26"
             ],
             [
              1,
              "#f0f921"
             ]
            ],
            "type": "histogram2d"
           }
          ],
          "histogram2dcontour": [
           {
            "colorbar": {
             "outlinewidth": 0,
             "ticks": ""
            },
            "colorscale": [
             [
              0,
              "#0d0887"
             ],
             [
              0.1111111111111111,
              "#46039f"
             ],
             [
              0.2222222222222222,
              "#7201a8"
             ],
             [
              0.3333333333333333,
              "#9c179e"
             ],
             [
              0.4444444444444444,
              "#bd3786"
             ],
             [
              0.5555555555555556,
              "#d8576b"
             ],
             [
              0.6666666666666666,
              "#ed7953"
             ],
             [
              0.7777777777777778,
              "#fb9f3a"
             ],
             [
              0.8888888888888888,
              "#fdca26"
             ],
             [
              1,
              "#f0f921"
             ]
            ],
            "type": "histogram2dcontour"
           }
          ],
          "mesh3d": [
           {
            "colorbar": {
             "outlinewidth": 0,
             "ticks": ""
            },
            "type": "mesh3d"
           }
          ],
          "parcoords": [
           {
            "line": {
             "colorbar": {
              "outlinewidth": 0,
              "ticks": ""
             }
            },
            "type": "parcoords"
           }
          ],
          "pie": [
           {
            "automargin": true,
            "type": "pie"
           }
          ],
          "scatter": [
           {
            "fillpattern": {
             "fillmode": "overlay",
             "size": 10,
             "solidity": 0.2
            },
            "type": "scatter"
           }
          ],
          "scatter3d": [
           {
            "line": {
             "colorbar": {
              "outlinewidth": 0,
              "ticks": ""
             }
            },
            "marker": {
             "colorbar": {
              "outlinewidth": 0,
              "ticks": ""
             }
            },
            "type": "scatter3d"
           }
          ],
          "scattercarpet": [
           {
            "marker": {
             "colorbar": {
              "outlinewidth": 0,
              "ticks": ""
             }
            },
            "type": "scattercarpet"
           }
          ],
          "scattergeo": [
           {
            "marker": {
             "colorbar": {
              "outlinewidth": 0,
              "ticks": ""
             }
            },
            "type": "scattergeo"
           }
          ],
          "scattergl": [
           {
            "marker": {
             "colorbar": {
              "outlinewidth": 0,
              "ticks": ""
             }
            },
            "type": "scattergl"
           }
          ],
          "scattermapbox": [
           {
            "marker": {
             "colorbar": {
              "outlinewidth": 0,
              "ticks": ""
             }
            },
            "type": "scattermapbox"
           }
          ],
          "scatterpolar": [
           {
            "marker": {
             "colorbar": {
              "outlinewidth": 0,
              "ticks": ""
             }
            },
            "type": "scatterpolar"
           }
          ],
          "scatterpolargl": [
           {
            "marker": {
             "colorbar": {
              "outlinewidth": 0,
              "ticks": ""
             }
            },
            "type": "scatterpolargl"
           }
          ],
          "scatterternary": [
           {
            "marker": {
             "colorbar": {
              "outlinewidth": 0,
              "ticks": ""
             }
            },
            "type": "scatterternary"
           }
          ],
          "surface": [
           {
            "colorbar": {
             "outlinewidth": 0,
             "ticks": ""
            },
            "colorscale": [
             [
              0,
              "#0d0887"
             ],
             [
              0.1111111111111111,
              "#46039f"
             ],
             [
              0.2222222222222222,
              "#7201a8"
             ],
             [
              0.3333333333333333,
              "#9c179e"
             ],
             [
              0.4444444444444444,
              "#bd3786"
             ],
             [
              0.5555555555555556,
              "#d8576b"
             ],
             [
              0.6666666666666666,
              "#ed7953"
             ],
             [
              0.7777777777777778,
              "#fb9f3a"
             ],
             [
              0.8888888888888888,
              "#fdca26"
             ],
             [
              1,
              "#f0f921"
             ]
            ],
            "type": "surface"
           }
          ],
          "table": [
           {
            "cells": {
             "fill": {
              "color": "#EBF0F8"
             },
             "line": {
              "color": "white"
             }
            },
            "header": {
             "fill": {
              "color": "#C8D4E3"
             },
             "line": {
              "color": "white"
             }
            },
            "type": "table"
           }
          ]
         },
         "layout": {
          "annotationdefaults": {
           "arrowcolor": "#2a3f5f",
           "arrowhead": 0,
           "arrowwidth": 1
          },
          "autotypenumbers": "strict",
          "coloraxis": {
           "colorbar": {
            "outlinewidth": 0,
            "ticks": ""
           }
          },
          "colorscale": {
           "diverging": [
            [
             0,
             "#8e0152"
            ],
            [
             0.1,
             "#c51b7d"
            ],
            [
             0.2,
             "#de77ae"
            ],
            [
             0.3,
             "#f1b6da"
            ],
            [
             0.4,
             "#fde0ef"
            ],
            [
             0.5,
             "#f7f7f7"
            ],
            [
             0.6,
             "#e6f5d0"
            ],
            [
             0.7,
             "#b8e186"
            ],
            [
             0.8,
             "#7fbc41"
            ],
            [
             0.9,
             "#4d9221"
            ],
            [
             1,
             "#276419"
            ]
           ],
           "sequential": [
            [
             0,
             "#0d0887"
            ],
            [
             0.1111111111111111,
             "#46039f"
            ],
            [
             0.2222222222222222,
             "#7201a8"
            ],
            [
             0.3333333333333333,
             "#9c179e"
            ],
            [
             0.4444444444444444,
             "#bd3786"
            ],
            [
             0.5555555555555556,
             "#d8576b"
            ],
            [
             0.6666666666666666,
             "#ed7953"
            ],
            [
             0.7777777777777778,
             "#fb9f3a"
            ],
            [
             0.8888888888888888,
             "#fdca26"
            ],
            [
             1,
             "#f0f921"
            ]
           ],
           "sequentialminus": [
            [
             0,
             "#0d0887"
            ],
            [
             0.1111111111111111,
             "#46039f"
            ],
            [
             0.2222222222222222,
             "#7201a8"
            ],
            [
             0.3333333333333333,
             "#9c179e"
            ],
            [
             0.4444444444444444,
             "#bd3786"
            ],
            [
             0.5555555555555556,
             "#d8576b"
            ],
            [
             0.6666666666666666,
             "#ed7953"
            ],
            [
             0.7777777777777778,
             "#fb9f3a"
            ],
            [
             0.8888888888888888,
             "#fdca26"
            ],
            [
             1,
             "#f0f921"
            ]
           ]
          },
          "colorway": [
           "#636efa",
           "#EF553B",
           "#00cc96",
           "#ab63fa",
           "#FFA15A",
           "#19d3f3",
           "#FF6692",
           "#B6E880",
           "#FF97FF",
           "#FECB52"
          ],
          "font": {
           "color": "#2a3f5f"
          },
          "geo": {
           "bgcolor": "white",
           "lakecolor": "white",
           "landcolor": "#E5ECF6",
           "showlakes": true,
           "showland": true,
           "subunitcolor": "white"
          },
          "hoverlabel": {
           "align": "left"
          },
          "hovermode": "closest",
          "mapbox": {
           "style": "light"
          },
          "paper_bgcolor": "white",
          "plot_bgcolor": "#E5ECF6",
          "polar": {
           "angularaxis": {
            "gridcolor": "white",
            "linecolor": "white",
            "ticks": ""
           },
           "bgcolor": "#E5ECF6",
           "radialaxis": {
            "gridcolor": "white",
            "linecolor": "white",
            "ticks": ""
           }
          },
          "scene": {
           "xaxis": {
            "backgroundcolor": "#E5ECF6",
            "gridcolor": "white",
            "gridwidth": 2,
            "linecolor": "white",
            "showbackground": true,
            "ticks": "",
            "zerolinecolor": "white"
           },
           "yaxis": {
            "backgroundcolor": "#E5ECF6",
            "gridcolor": "white",
            "gridwidth": 2,
            "linecolor": "white",
            "showbackground": true,
            "ticks": "",
            "zerolinecolor": "white"
           },
           "zaxis": {
            "backgroundcolor": "#E5ECF6",
            "gridcolor": "white",
            "gridwidth": 2,
            "linecolor": "white",
            "showbackground": true,
            "ticks": "",
            "zerolinecolor": "white"
           }
          },
          "shapedefaults": {
           "line": {
            "color": "#2a3f5f"
           }
          },
          "ternary": {
           "aaxis": {
            "gridcolor": "white",
            "linecolor": "white",
            "ticks": ""
           },
           "baxis": {
            "gridcolor": "white",
            "linecolor": "white",
            "ticks": ""
           },
           "bgcolor": "#E5ECF6",
           "caxis": {
            "gridcolor": "white",
            "linecolor": "white",
            "ticks": ""
           }
          },
          "title": {
           "x": 0.05
          },
          "xaxis": {
           "automargin": true,
           "gridcolor": "white",
           "linecolor": "white",
           "ticks": "",
           "title": {
            "standoff": 15
           },
           "zerolinecolor": "white",
           "zerolinewidth": 2
          },
          "yaxis": {
           "automargin": true,
           "gridcolor": "white",
           "linecolor": "white",
           "ticks": "",
           "title": {
            "standoff": 15
           },
           "zerolinecolor": "white",
           "zerolinewidth": 2
          }
         }
        },
        "title": {
         "font": {
          "color": "black",
          "family": "Arial, sans-serif",
          "size": 25
         },
         "text": "<b>Container Accuracies<b>",
         "x": 0.5
        },
        "width": 590,
        "xaxis": {
         "tickfont": {
          "color": "black",
          "size": 16
         },
         "tickmode": "array",
         "title": {
          "font": {
           "color": "black",
           "size": 18
          },
          "text": "Predicted Label"
         }
        },
        "yaxis": {
         "tickfont": {
          "color": "black",
          "size": 16
         },
         "tickmode": "array",
         "title": {
          "font": {
           "color": "black",
           "size": 18
          },
          "text": "True Label"
         }
        }
       }
      }
     },
     "metadata": {},
     "output_type": "display_data"
    },
    {
     "data": {
      "application/vnd.plotly.v1+json": {
       "config": {
        "plotlyServerURL": "https://plot.ly"
       },
       "data": [
        {
         "colorscale": [
          [
           0,
           "rgb(254, 245, 244)"
          ],
          [
           0.09090909090909091,
           "rgb(222, 224, 210)"
          ],
          [
           0.18181818181818182,
           "rgb(189, 206, 181)"
          ],
          [
           0.2727272727272727,
           "rgb(153, 189, 156)"
          ],
          [
           0.36363636363636365,
           "rgb(110, 173, 138)"
          ],
          [
           0.45454545454545453,
           "rgb(65, 157, 129)"
          ],
          [
           0.5454545454545454,
           "rgb(25, 137, 125)"
          ],
          [
           0.6363636363636364,
           "rgb(18, 116, 117)"
          ],
          [
           0.7272727272727273,
           "rgb(25, 94, 106)"
          ],
          [
           0.8181818181818182,
           "rgb(28, 72, 93)"
          ],
          [
           0.9090909090909091,
           "rgb(25, 51, 80)"
          ],
          [
           1,
           "rgb(20, 29, 67)"
          ]
         ],
         "type": "heatmap",
         "x": [
          "Water",
          "Oil",
          "Honey",
          "Sugar",
          "Starch",
          "Vinegar",
          "Oats",
          "Rice",
          "Lentils"
         ],
         "y": [
          "Lentils",
          "Rice",
          "Oats",
          "Vinegar",
          "Starch",
          "Sugar",
          "Honey",
          "Oil",
          "Water"
         ],
         "z": [
          [
           0,
           16,
           0,
           17,
           0,
           0,
           0,
           2,
           67
          ],
          [
           6,
           0,
           12,
           0,
           0,
           0,
           0,
           84,
           0
          ],
          [
           2,
           0,
           0,
           0,
           6,
           0,
           94,
           0,
           0
          ],
          [
           2,
           0,
           0,
           0,
           8,
           90,
           2,
           0,
           0
          ],
          [
           0,
           0,
           0,
           0,
           75,
           22,
           3,
           3,
           0
          ],
          [
           0,
           2,
           0,
           98,
           0,
           2,
           0,
           0,
           0
          ],
          [
           2,
           0,
           82,
           0,
           0,
           0,
           8,
           10,
           0
          ],
          [
           0,
           83,
           0,
           2,
           0,
           0,
           0,
           0,
           17
          ],
          [
           96,
           0,
           4,
           0,
           0,
           0,
           0,
           2,
           0
          ]
         ]
        }
       ],
       "layout": {
        "annotations": [
         {
          "font": {
           "color": "black"
          },
          "showarrow": false,
          "text": "0",
          "x": "Water",
          "y": "Lentils"
         },
         {
          "font": {
           "color": "black"
          },
          "showarrow": false,
          "text": "16",
          "x": "Oil",
          "y": "Lentils"
         },
         {
          "font": {
           "color": "black"
          },
          "showarrow": false,
          "text": "0",
          "x": "Honey",
          "y": "Lentils"
         },
         {
          "font": {
           "color": "black"
          },
          "showarrow": false,
          "text": "17",
          "x": "Sugar",
          "y": "Lentils"
         },
         {
          "font": {
           "color": "black"
          },
          "showarrow": false,
          "text": "0",
          "x": "Starch",
          "y": "Lentils"
         },
         {
          "font": {
           "color": "black"
          },
          "showarrow": false,
          "text": "0",
          "x": "Vinegar",
          "y": "Lentils"
         },
         {
          "font": {
           "color": "black"
          },
          "showarrow": false,
          "text": "0",
          "x": "Oats",
          "y": "Lentils"
         },
         {
          "font": {
           "color": "black"
          },
          "showarrow": false,
          "text": "2",
          "x": "Rice",
          "y": "Lentils"
         },
         {
          "font": {
           "color": "white"
          },
          "showarrow": false,
          "text": "67",
          "x": "Lentils",
          "y": "Lentils"
         },
         {
          "font": {
           "color": "black"
          },
          "showarrow": false,
          "text": "6",
          "x": "Water",
          "y": "Rice"
         },
         {
          "font": {
           "color": "black"
          },
          "showarrow": false,
          "text": "0",
          "x": "Oil",
          "y": "Rice"
         },
         {
          "font": {
           "color": "black"
          },
          "showarrow": false,
          "text": "12",
          "x": "Honey",
          "y": "Rice"
         },
         {
          "font": {
           "color": "black"
          },
          "showarrow": false,
          "text": "0",
          "x": "Sugar",
          "y": "Rice"
         },
         {
          "font": {
           "color": "black"
          },
          "showarrow": false,
          "text": "0",
          "x": "Starch",
          "y": "Rice"
         },
         {
          "font": {
           "color": "black"
          },
          "showarrow": false,
          "text": "0",
          "x": "Vinegar",
          "y": "Rice"
         },
         {
          "font": {
           "color": "black"
          },
          "showarrow": false,
          "text": "0",
          "x": "Oats",
          "y": "Rice"
         },
         {
          "font": {
           "color": "white"
          },
          "showarrow": false,
          "text": "84",
          "x": "Rice",
          "y": "Rice"
         },
         {
          "font": {
           "color": "black"
          },
          "showarrow": false,
          "text": "0",
          "x": "Lentils",
          "y": "Rice"
         },
         {
          "font": {
           "color": "black"
          },
          "showarrow": false,
          "text": "2",
          "x": "Water",
          "y": "Oats"
         },
         {
          "font": {
           "color": "black"
          },
          "showarrow": false,
          "text": "0",
          "x": "Oil",
          "y": "Oats"
         },
         {
          "font": {
           "color": "black"
          },
          "showarrow": false,
          "text": "0",
          "x": "Honey",
          "y": "Oats"
         },
         {
          "font": {
           "color": "black"
          },
          "showarrow": false,
          "text": "0",
          "x": "Sugar",
          "y": "Oats"
         },
         {
          "font": {
           "color": "black"
          },
          "showarrow": false,
          "text": "6",
          "x": "Starch",
          "y": "Oats"
         },
         {
          "font": {
           "color": "black"
          },
          "showarrow": false,
          "text": "0",
          "x": "Vinegar",
          "y": "Oats"
         },
         {
          "font": {
           "color": "white"
          },
          "showarrow": false,
          "text": "94",
          "x": "Oats",
          "y": "Oats"
         },
         {
          "font": {
           "color": "black"
          },
          "showarrow": false,
          "text": "0",
          "x": "Rice",
          "y": "Oats"
         },
         {
          "font": {
           "color": "black"
          },
          "showarrow": false,
          "text": "0",
          "x": "Lentils",
          "y": "Oats"
         },
         {
          "font": {
           "color": "black"
          },
          "showarrow": false,
          "text": "2",
          "x": "Water",
          "y": "Vinegar"
         },
         {
          "font": {
           "color": "black"
          },
          "showarrow": false,
          "text": "0",
          "x": "Oil",
          "y": "Vinegar"
         },
         {
          "font": {
           "color": "black"
          },
          "showarrow": false,
          "text": "0",
          "x": "Honey",
          "y": "Vinegar"
         },
         {
          "font": {
           "color": "black"
          },
          "showarrow": false,
          "text": "0",
          "x": "Sugar",
          "y": "Vinegar"
         },
         {
          "font": {
           "color": "black"
          },
          "showarrow": false,
          "text": "8",
          "x": "Starch",
          "y": "Vinegar"
         },
         {
          "font": {
           "color": "white"
          },
          "showarrow": false,
          "text": "90",
          "x": "Vinegar",
          "y": "Vinegar"
         },
         {
          "font": {
           "color": "black"
          },
          "showarrow": false,
          "text": "2",
          "x": "Oats",
          "y": "Vinegar"
         },
         {
          "font": {
           "color": "black"
          },
          "showarrow": false,
          "text": "0",
          "x": "Rice",
          "y": "Vinegar"
         },
         {
          "font": {
           "color": "black"
          },
          "showarrow": false,
          "text": "0",
          "x": "Lentils",
          "y": "Vinegar"
         },
         {
          "font": {
           "color": "black"
          },
          "showarrow": false,
          "text": "0",
          "x": "Water",
          "y": "Starch"
         },
         {
          "font": {
           "color": "black"
          },
          "showarrow": false,
          "text": "0",
          "x": "Oil",
          "y": "Starch"
         },
         {
          "font": {
           "color": "black"
          },
          "showarrow": false,
          "text": "0",
          "x": "Honey",
          "y": "Starch"
         },
         {
          "font": {
           "color": "black"
          },
          "showarrow": false,
          "text": "0",
          "x": "Sugar",
          "y": "Starch"
         },
         {
          "font": {
           "color": "white"
          },
          "showarrow": false,
          "text": "75",
          "x": "Starch",
          "y": "Starch"
         },
         {
          "font": {
           "color": "black"
          },
          "showarrow": false,
          "text": "22",
          "x": "Vinegar",
          "y": "Starch"
         },
         {
          "font": {
           "color": "black"
          },
          "showarrow": false,
          "text": "3",
          "x": "Oats",
          "y": "Starch"
         },
         {
          "font": {
           "color": "black"
          },
          "showarrow": false,
          "text": "3",
          "x": "Rice",
          "y": "Starch"
         },
         {
          "font": {
           "color": "black"
          },
          "showarrow": false,
          "text": "0",
          "x": "Lentils",
          "y": "Starch"
         },
         {
          "font": {
           "color": "black"
          },
          "showarrow": false,
          "text": "0",
          "x": "Water",
          "y": "Sugar"
         },
         {
          "font": {
           "color": "black"
          },
          "showarrow": false,
          "text": "2",
          "x": "Oil",
          "y": "Sugar"
         },
         {
          "font": {
           "color": "black"
          },
          "showarrow": false,
          "text": "0",
          "x": "Honey",
          "y": "Sugar"
         },
         {
          "font": {
           "color": "white"
          },
          "showarrow": false,
          "text": "98",
          "x": "Sugar",
          "y": "Sugar"
         },
         {
          "font": {
           "color": "black"
          },
          "showarrow": false,
          "text": "0",
          "x": "Starch",
          "y": "Sugar"
         },
         {
          "font": {
           "color": "black"
          },
          "showarrow": false,
          "text": "2",
          "x": "Vinegar",
          "y": "Sugar"
         },
         {
          "font": {
           "color": "black"
          },
          "showarrow": false,
          "text": "0",
          "x": "Oats",
          "y": "Sugar"
         },
         {
          "font": {
           "color": "black"
          },
          "showarrow": false,
          "text": "0",
          "x": "Rice",
          "y": "Sugar"
         },
         {
          "font": {
           "color": "black"
          },
          "showarrow": false,
          "text": "0",
          "x": "Lentils",
          "y": "Sugar"
         },
         {
          "font": {
           "color": "black"
          },
          "showarrow": false,
          "text": "2",
          "x": "Water",
          "y": "Honey"
         },
         {
          "font": {
           "color": "black"
          },
          "showarrow": false,
          "text": "0",
          "x": "Oil",
          "y": "Honey"
         },
         {
          "font": {
           "color": "white"
          },
          "showarrow": false,
          "text": "82",
          "x": "Honey",
          "y": "Honey"
         },
         {
          "font": {
           "color": "black"
          },
          "showarrow": false,
          "text": "0",
          "x": "Sugar",
          "y": "Honey"
         },
         {
          "font": {
           "color": "black"
          },
          "showarrow": false,
          "text": "0",
          "x": "Starch",
          "y": "Honey"
         },
         {
          "font": {
           "color": "black"
          },
          "showarrow": false,
          "text": "0",
          "x": "Vinegar",
          "y": "Honey"
         },
         {
          "font": {
           "color": "black"
          },
          "showarrow": false,
          "text": "8",
          "x": "Oats",
          "y": "Honey"
         },
         {
          "font": {
           "color": "black"
          },
          "showarrow": false,
          "text": "10",
          "x": "Rice",
          "y": "Honey"
         },
         {
          "font": {
           "color": "black"
          },
          "showarrow": false,
          "text": "0",
          "x": "Lentils",
          "y": "Honey"
         },
         {
          "font": {
           "color": "black"
          },
          "showarrow": false,
          "text": "0",
          "x": "Water",
          "y": "Oil"
         },
         {
          "font": {
           "color": "white"
          },
          "showarrow": false,
          "text": "83",
          "x": "Oil",
          "y": "Oil"
         },
         {
          "font": {
           "color": "black"
          },
          "showarrow": false,
          "text": "0",
          "x": "Honey",
          "y": "Oil"
         },
         {
          "font": {
           "color": "black"
          },
          "showarrow": false,
          "text": "2",
          "x": "Sugar",
          "y": "Oil"
         },
         {
          "font": {
           "color": "black"
          },
          "showarrow": false,
          "text": "0",
          "x": "Starch",
          "y": "Oil"
         },
         {
          "font": {
           "color": "black"
          },
          "showarrow": false,
          "text": "0",
          "x": "Vinegar",
          "y": "Oil"
         },
         {
          "font": {
           "color": "black"
          },
          "showarrow": false,
          "text": "0",
          "x": "Oats",
          "y": "Oil"
         },
         {
          "font": {
           "color": "black"
          },
          "showarrow": false,
          "text": "0",
          "x": "Rice",
          "y": "Oil"
         },
         {
          "font": {
           "color": "black"
          },
          "showarrow": false,
          "text": "17",
          "x": "Lentils",
          "y": "Oil"
         },
         {
          "font": {
           "color": "white"
          },
          "showarrow": false,
          "text": "96",
          "x": "Water",
          "y": "Water"
         },
         {
          "font": {
           "color": "black"
          },
          "showarrow": false,
          "text": "0",
          "x": "Oil",
          "y": "Water"
         },
         {
          "font": {
           "color": "black"
          },
          "showarrow": false,
          "text": "4",
          "x": "Honey",
          "y": "Water"
         },
         {
          "font": {
           "color": "black"
          },
          "showarrow": false,
          "text": "0",
          "x": "Sugar",
          "y": "Water"
         },
         {
          "font": {
           "color": "black"
          },
          "showarrow": false,
          "text": "0",
          "x": "Starch",
          "y": "Water"
         },
         {
          "font": {
           "color": "black"
          },
          "showarrow": false,
          "text": "0",
          "x": "Vinegar",
          "y": "Water"
         },
         {
          "font": {
           "color": "black"
          },
          "showarrow": false,
          "text": "0",
          "x": "Oats",
          "y": "Water"
         },
         {
          "font": {
           "color": "black"
          },
          "showarrow": false,
          "text": "2",
          "x": "Rice",
          "y": "Water"
         },
         {
          "font": {
           "color": "black"
          },
          "showarrow": false,
          "text": "0",
          "x": "Lentils",
          "y": "Water"
         }
        ],
        "height": 560,
        "margin": {
         "b": 0,
         "l": 0,
         "r": 0,
         "t": 50
        },
        "template": {
         "data": {
          "bar": [
           {
            "error_x": {
             "color": "#2a3f5f"
            },
            "error_y": {
             "color": "#2a3f5f"
            },
            "marker": {
             "line": {
              "color": "#E5ECF6",
              "width": 0.5
             },
             "pattern": {
              "fillmode": "overlay",
              "size": 10,
              "solidity": 0.2
             }
            },
            "type": "bar"
           }
          ],
          "barpolar": [
           {
            "marker": {
             "line": {
              "color": "#E5ECF6",
              "width": 0.5
             },
             "pattern": {
              "fillmode": "overlay",
              "size": 10,
              "solidity": 0.2
             }
            },
            "type": "barpolar"
           }
          ],
          "carpet": [
           {
            "aaxis": {
             "endlinecolor": "#2a3f5f",
             "gridcolor": "white",
             "linecolor": "white",
             "minorgridcolor": "white",
             "startlinecolor": "#2a3f5f"
            },
            "baxis": {
             "endlinecolor": "#2a3f5f",
             "gridcolor": "white",
             "linecolor": "white",
             "minorgridcolor": "white",
             "startlinecolor": "#2a3f5f"
            },
            "type": "carpet"
           }
          ],
          "choropleth": [
           {
            "colorbar": {
             "outlinewidth": 0,
             "ticks": ""
            },
            "type": "choropleth"
           }
          ],
          "contour": [
           {
            "colorbar": {
             "outlinewidth": 0,
             "ticks": ""
            },
            "colorscale": [
             [
              0,
              "#0d0887"
             ],
             [
              0.1111111111111111,
              "#46039f"
             ],
             [
              0.2222222222222222,
              "#7201a8"
             ],
             [
              0.3333333333333333,
              "#9c179e"
             ],
             [
              0.4444444444444444,
              "#bd3786"
             ],
             [
              0.5555555555555556,
              "#d8576b"
             ],
             [
              0.6666666666666666,
              "#ed7953"
             ],
             [
              0.7777777777777778,
              "#fb9f3a"
             ],
             [
              0.8888888888888888,
              "#fdca26"
             ],
             [
              1,
              "#f0f921"
             ]
            ],
            "type": "contour"
           }
          ],
          "contourcarpet": [
           {
            "colorbar": {
             "outlinewidth": 0,
             "ticks": ""
            },
            "type": "contourcarpet"
           }
          ],
          "heatmap": [
           {
            "colorbar": {
             "outlinewidth": 0,
             "ticks": ""
            },
            "colorscale": [
             [
              0,
              "#0d0887"
             ],
             [
              0.1111111111111111,
              "#46039f"
             ],
             [
              0.2222222222222222,
              "#7201a8"
             ],
             [
              0.3333333333333333,
              "#9c179e"
             ],
             [
              0.4444444444444444,
              "#bd3786"
             ],
             [
              0.5555555555555556,
              "#d8576b"
             ],
             [
              0.6666666666666666,
              "#ed7953"
             ],
             [
              0.7777777777777778,
              "#fb9f3a"
             ],
             [
              0.8888888888888888,
              "#fdca26"
             ],
             [
              1,
              "#f0f921"
             ]
            ],
            "type": "heatmap"
           }
          ],
          "heatmapgl": [
           {
            "colorbar": {
             "outlinewidth": 0,
             "ticks": ""
            },
            "colorscale": [
             [
              0,
              "#0d0887"
             ],
             [
              0.1111111111111111,
              "#46039f"
             ],
             [
              0.2222222222222222,
              "#7201a8"
             ],
             [
              0.3333333333333333,
              "#9c179e"
             ],
             [
              0.4444444444444444,
              "#bd3786"
             ],
             [
              0.5555555555555556,
              "#d8576b"
             ],
             [
              0.6666666666666666,
              "#ed7953"
             ],
             [
              0.7777777777777778,
              "#fb9f3a"
             ],
             [
              0.8888888888888888,
              "#fdca26"
             ],
             [
              1,
              "#f0f921"
             ]
            ],
            "type": "heatmapgl"
           }
          ],
          "histogram": [
           {
            "marker": {
             "pattern": {
              "fillmode": "overlay",
              "size": 10,
              "solidity": 0.2
             }
            },
            "type": "histogram"
           }
          ],
          "histogram2d": [
           {
            "colorbar": {
             "outlinewidth": 0,
             "ticks": ""
            },
            "colorscale": [
             [
              0,
              "#0d0887"
             ],
             [
              0.1111111111111111,
              "#46039f"
             ],
             [
              0.2222222222222222,
              "#7201a8"
             ],
             [
              0.3333333333333333,
              "#9c179e"
             ],
             [
              0.4444444444444444,
              "#bd3786"
             ],
             [
              0.5555555555555556,
              "#d8576b"
             ],
             [
              0.6666666666666666,
              "#ed7953"
             ],
             [
              0.7777777777777778,
              "#fb9f3a"
             ],
             [
              0.8888888888888888,
              "#fdca26"
             ],
             [
              1,
              "#f0f921"
             ]
            ],
            "type": "histogram2d"
           }
          ],
          "histogram2dcontour": [
           {
            "colorbar": {
             "outlinewidth": 0,
             "ticks": ""
            },
            "colorscale": [
             [
              0,
              "#0d0887"
             ],
             [
              0.1111111111111111,
              "#46039f"
             ],
             [
              0.2222222222222222,
              "#7201a8"
             ],
             [
              0.3333333333333333,
              "#9c179e"
             ],
             [
              0.4444444444444444,
              "#bd3786"
             ],
             [
              0.5555555555555556,
              "#d8576b"
             ],
             [
              0.6666666666666666,
              "#ed7953"
             ],
             [
              0.7777777777777778,
              "#fb9f3a"
             ],
             [
              0.8888888888888888,
              "#fdca26"
             ],
             [
              1,
              "#f0f921"
             ]
            ],
            "type": "histogram2dcontour"
           }
          ],
          "mesh3d": [
           {
            "colorbar": {
             "outlinewidth": 0,
             "ticks": ""
            },
            "type": "mesh3d"
           }
          ],
          "parcoords": [
           {
            "line": {
             "colorbar": {
              "outlinewidth": 0,
              "ticks": ""
             }
            },
            "type": "parcoords"
           }
          ],
          "pie": [
           {
            "automargin": true,
            "type": "pie"
           }
          ],
          "scatter": [
           {
            "fillpattern": {
             "fillmode": "overlay",
             "size": 10,
             "solidity": 0.2
            },
            "type": "scatter"
           }
          ],
          "scatter3d": [
           {
            "line": {
             "colorbar": {
              "outlinewidth": 0,
              "ticks": ""
             }
            },
            "marker": {
             "colorbar": {
              "outlinewidth": 0,
              "ticks": ""
             }
            },
            "type": "scatter3d"
           }
          ],
          "scattercarpet": [
           {
            "marker": {
             "colorbar": {
              "outlinewidth": 0,
              "ticks": ""
             }
            },
            "type": "scattercarpet"
           }
          ],
          "scattergeo": [
           {
            "marker": {
             "colorbar": {
              "outlinewidth": 0,
              "ticks": ""
             }
            },
            "type": "scattergeo"
           }
          ],
          "scattergl": [
           {
            "marker": {
             "colorbar": {
              "outlinewidth": 0,
              "ticks": ""
             }
            },
            "type": "scattergl"
           }
          ],
          "scattermapbox": [
           {
            "marker": {
             "colorbar": {
              "outlinewidth": 0,
              "ticks": ""
             }
            },
            "type": "scattermapbox"
           }
          ],
          "scatterpolar": [
           {
            "marker": {
             "colorbar": {
              "outlinewidth": 0,
              "ticks": ""
             }
            },
            "type": "scatterpolar"
           }
          ],
          "scatterpolargl": [
           {
            "marker": {
             "colorbar": {
              "outlinewidth": 0,
              "ticks": ""
             }
            },
            "type": "scatterpolargl"
           }
          ],
          "scatterternary": [
           {
            "marker": {
             "colorbar": {
              "outlinewidth": 0,
              "ticks": ""
             }
            },
            "type": "scatterternary"
           }
          ],
          "surface": [
           {
            "colorbar": {
             "outlinewidth": 0,
             "ticks": ""
            },
            "colorscale": [
             [
              0,
              "#0d0887"
             ],
             [
              0.1111111111111111,
              "#46039f"
             ],
             [
              0.2222222222222222,
              "#7201a8"
             ],
             [
              0.3333333333333333,
              "#9c179e"
             ],
             [
              0.4444444444444444,
              "#bd3786"
             ],
             [
              0.5555555555555556,
              "#d8576b"
             ],
             [
              0.6666666666666666,
              "#ed7953"
             ],
             [
              0.7777777777777778,
              "#fb9f3a"
             ],
             [
              0.8888888888888888,
              "#fdca26"
             ],
             [
              1,
              "#f0f921"
             ]
            ],
            "type": "surface"
           }
          ],
          "table": [
           {
            "cells": {
             "fill": {
              "color": "#EBF0F8"
             },
             "line": {
              "color": "white"
             }
            },
            "header": {
             "fill": {
              "color": "#C8D4E3"
             },
             "line": {
              "color": "white"
             }
            },
            "type": "table"
           }
          ]
         },
         "layout": {
          "annotationdefaults": {
           "arrowcolor": "#2a3f5f",
           "arrowhead": 0,
           "arrowwidth": 1
          },
          "autotypenumbers": "strict",
          "coloraxis": {
           "colorbar": {
            "outlinewidth": 0,
            "ticks": ""
           }
          },
          "colorscale": {
           "diverging": [
            [
             0,
             "#8e0152"
            ],
            [
             0.1,
             "#c51b7d"
            ],
            [
             0.2,
             "#de77ae"
            ],
            [
             0.3,
             "#f1b6da"
            ],
            [
             0.4,
             "#fde0ef"
            ],
            [
             0.5,
             "#f7f7f7"
            ],
            [
             0.6,
             "#e6f5d0"
            ],
            [
             0.7,
             "#b8e186"
            ],
            [
             0.8,
             "#7fbc41"
            ],
            [
             0.9,
             "#4d9221"
            ],
            [
             1,
             "#276419"
            ]
           ],
           "sequential": [
            [
             0,
             "#0d0887"
            ],
            [
             0.1111111111111111,
             "#46039f"
            ],
            [
             0.2222222222222222,
             "#7201a8"
            ],
            [
             0.3333333333333333,
             "#9c179e"
            ],
            [
             0.4444444444444444,
             "#bd3786"
            ],
            [
             0.5555555555555556,
             "#d8576b"
            ],
            [
             0.6666666666666666,
             "#ed7953"
            ],
            [
             0.7777777777777778,
             "#fb9f3a"
            ],
            [
             0.8888888888888888,
             "#fdca26"
            ],
            [
             1,
             "#f0f921"
            ]
           ],
           "sequentialminus": [
            [
             0,
             "#0d0887"
            ],
            [
             0.1111111111111111,
             "#46039f"
            ],
            [
             0.2222222222222222,
             "#7201a8"
            ],
            [
             0.3333333333333333,
             "#9c179e"
            ],
            [
             0.4444444444444444,
             "#bd3786"
            ],
            [
             0.5555555555555556,
             "#d8576b"
            ],
            [
             0.6666666666666666,
             "#ed7953"
            ],
            [
             0.7777777777777778,
             "#fb9f3a"
            ],
            [
             0.8888888888888888,
             "#fdca26"
            ],
            [
             1,
             "#f0f921"
            ]
           ]
          },
          "colorway": [
           "#636efa",
           "#EF553B",
           "#00cc96",
           "#ab63fa",
           "#FFA15A",
           "#19d3f3",
           "#FF6692",
           "#B6E880",
           "#FF97FF",
           "#FECB52"
          ],
          "font": {
           "color": "#2a3f5f"
          },
          "geo": {
           "bgcolor": "white",
           "lakecolor": "white",
           "landcolor": "#E5ECF6",
           "showlakes": true,
           "showland": true,
           "subunitcolor": "white"
          },
          "hoverlabel": {
           "align": "left"
          },
          "hovermode": "closest",
          "mapbox": {
           "style": "light"
          },
          "paper_bgcolor": "white",
          "plot_bgcolor": "#E5ECF6",
          "polar": {
           "angularaxis": {
            "gridcolor": "white",
            "linecolor": "white",
            "ticks": ""
           },
           "bgcolor": "#E5ECF6",
           "radialaxis": {
            "gridcolor": "white",
            "linecolor": "white",
            "ticks": ""
           }
          },
          "scene": {
           "xaxis": {
            "backgroundcolor": "#E5ECF6",
            "gridcolor": "white",
            "gridwidth": 2,
            "linecolor": "white",
            "showbackground": true,
            "ticks": "",
            "zerolinecolor": "white"
           },
           "yaxis": {
            "backgroundcolor": "#E5ECF6",
            "gridcolor": "white",
            "gridwidth": 2,
            "linecolor": "white",
            "showbackground": true,
            "ticks": "",
            "zerolinecolor": "white"
           },
           "zaxis": {
            "backgroundcolor": "#E5ECF6",
            "gridcolor": "white",
            "gridwidth": 2,
            "linecolor": "white",
            "showbackground": true,
            "ticks": "",
            "zerolinecolor": "white"
           }
          },
          "shapedefaults": {
           "line": {
            "color": "#2a3f5f"
           }
          },
          "ternary": {
           "aaxis": {
            "gridcolor": "white",
            "linecolor": "white",
            "ticks": ""
           },
           "baxis": {
            "gridcolor": "white",
            "linecolor": "white",
            "ticks": ""
           },
           "bgcolor": "#E5ECF6",
           "caxis": {
            "gridcolor": "white",
            "linecolor": "white",
            "ticks": ""
           }
          },
          "title": {
           "x": 0.05
          },
          "xaxis": {
           "automargin": true,
           "gridcolor": "white",
           "linecolor": "white",
           "ticks": "",
           "title": {
            "standoff": 15
           },
           "zerolinecolor": "white",
           "zerolinewidth": 2
          },
          "yaxis": {
           "automargin": true,
           "gridcolor": "white",
           "linecolor": "white",
           "ticks": "",
           "title": {
            "standoff": 15
           },
           "zerolinecolor": "white",
           "zerolinewidth": 2
          }
         }
        },
        "title": {
         "font": {
          "color": "black",
          "family": "Arial, sans-serif",
          "size": 25
         },
         "text": "<b>Substance Accuracies<b>",
         "x": 0.5
        },
        "width": 600,
        "xaxis": {
         "tickfont": {
          "color": "black",
          "size": 16
         },
         "tickmode": "array",
         "title": {
          "font": {
           "color": "black",
           "size": 18
          },
          "text": "Predicted Label"
         }
        },
        "yaxis": {
         "tickfont": {
          "color": "black",
          "size": 16
         },
         "tickmode": "array",
         "title": {
          "font": {
           "color": "black",
           "size": 18
          },
          "text": "True Label"
         }
        }
       }
      }
     },
     "metadata": {},
     "output_type": "display_data"
    }
   ],
   "source": [
    "cm_container = confusion_matrix(container_ys, container_preds)\n",
    "scaled_container_cm = np.ceil(cm_container/len(containers)*10)\n",
    "produce_cm(scaled_container_cm[::-1], 'Container Accuracies', False)\n",
    "\n",
    "cm_content = confusion_matrix(content_ys, content_preds)\n",
    "scaled_content_cm = np.ceil(cm_content/len(contents)*10)\n",
    "produce_cm(scaled_content_cm[::-1], 'Substance Accuracies', True)"
   ]
  },
  {
   "cell_type": "markdown",
   "metadata": {},
   "source": [
    "## Deriving Container and Content accuracies "
   ]
  },
  {
   "cell_type": "code",
   "execution_count": 20,
   "metadata": {},
   "outputs": [
    {
     "name": "stdout",
     "output_type": "stream",
     "text": [
      "container accuracy: 0.9777777777777777\n",
      "container accuracy: 0.8493827160493828\n"
     ]
    }
   ],
   "source": [
    "accuracy_total_container = 0\n",
    "for i in range(len(container_preds)):\n",
    "    if container_preds[i] == container_ys[i][0]:\n",
    "        accuracy_total_container +=1\n",
    "accuracy_containers = accuracy_total_container/len(container_preds)\n",
    "print('container accuracy:', accuracy_containers)\n",
    "\n",
    "\n",
    "accuracy_total_contents = 0\n",
    "for i in range(len(content_preds)):\n",
    "    if content_preds[i] == content_ys[i][0]:\n",
    "        accuracy_total_contents +=1\n",
    "accuracy_contents = accuracy_total_contents/len(content_preds)\n",
    "print('container accuracy:', accuracy_contents)"
   ]
  }
 ],
 "metadata": {
  "kernelspec": {
   "display_name": "Python 3",
   "language": "python",
   "name": "python3"
  },
  "language_info": {
   "codemirror_mode": {
    "name": "ipython",
    "version": 3
   },
   "file_extension": ".py",
   "mimetype": "text/x-python",
   "name": "python",
   "nbconvert_exporter": "python",
   "pygments_lexer": "ipython3",
   "version": "3.10.9"
  },
  "orig_nbformat": 4
 },
 "nbformat": 4,
 "nbformat_minor": 2
}
